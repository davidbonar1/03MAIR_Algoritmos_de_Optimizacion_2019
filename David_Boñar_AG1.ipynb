{
  "nbformat": 4,
  "nbformat_minor": 0,
  "metadata": {
    "colab": {
      "name": "David Boñar_AG1.ipynb",
      "provenance": [],
      "collapsed_sections": [],
      "include_colab_link": true
    },
    "kernelspec": {
      "name": "python3",
      "display_name": "Python 3"
    }
  },
  "cells": [
    {
      "cell_type": "markdown",
      "metadata": {
        "id": "view-in-github",
        "colab_type": "text"
      },
      "source": [
        "<a href=\"https://colab.research.google.com/github/davidbonar1/03MAIR_Algoritmos_de_Optimizacion_2019/blob/master/David_Bo%C3%B1ar_AG1.ipynb\" target=\"_parent\"><img src=\"https://colab.research.google.com/assets/colab-badge.svg\" alt=\"Open In Colab\"/></a>"
      ]
    },
    {
      "cell_type": "markdown",
      "metadata": {
        "id": "hAEtfSPN-jt3",
        "colab_type": "text"
      },
      "source": [
        "Actividad Guiada 1 de Algoritmos de Optimización\n",
        "\n",
        "David Boñar\n",
        "\n",
        "https://colab.research.google.com/drive/12Uogb_wSXuY_pVLANr7NY6gxIXHkIvSr\n",
        "\n",
        "https://github.com/davidbonar1/03MAIR_Algoritmos_de_Optimizacion_2019\n",
        "\n"
      ]
    },
    {
      "cell_type": "markdown",
      "metadata": {
        "id": "pWyNu83n9dhJ",
        "colab_type": "text"
      },
      "source": [
        "Problema 1: Programar una función que resuelva el problema de las torres de Hanoy."
      ]
    },
    {
      "cell_type": "code",
      "metadata": {
        "id": "k3f53pi08XZb",
        "colab_type": "code",
        "outputId": "cc04132c-71c4-476e-e8d7-cc6a60268002",
        "colab": {
          "base_uri": "https://localhost:8080/",
          "height": 272
        }
      },
      "source": [
        "def torres_hanoy(N,desde,hasta):\n",
        "  if N==1:\n",
        "    print(\"Lleva la ficha desde {} hasta {}.\".format(desde,hasta))\n",
        "  else:\n",
        "    torres_hanoy(N-1,desde,6 -desde - hasta) #La operación de 6 - desde - hasta otorga siempre la torre que no está ocupada\n",
        "    print(\"Lleva la ficha desde {} hasta {}.\".format(desde,hasta))\n",
        "    torres_hanoy(N-1,6 -hasta - desde,hasta)\n",
        "\n",
        "\n",
        "torres_hanoy(4,1,3)"
      ],
      "execution_count": 0,
      "outputs": [
        {
          "output_type": "stream",
          "text": [
            "Lleva la ficha desde 1 hasta 2.\n",
            "Lleva la ficha desde 1 hasta 3.\n",
            "Lleva la ficha desde 2 hasta 3.\n",
            "Lleva la ficha desde 1 hasta 2.\n",
            "Lleva la ficha desde 3 hasta 1.\n",
            "Lleva la ficha desde 3 hasta 2.\n",
            "Lleva la ficha desde 1 hasta 2.\n",
            "Lleva la ficha desde 1 hasta 3.\n",
            "Lleva la ficha desde 2 hasta 3.\n",
            "Lleva la ficha desde 2 hasta 1.\n",
            "Lleva la ficha desde 3 hasta 1.\n",
            "Lleva la ficha desde 2 hasta 3.\n",
            "Lleva la ficha desde 1 hasta 2.\n",
            "Lleva la ficha desde 1 hasta 3.\n",
            "Lleva la ficha desde 2 hasta 3.\n"
          ],
          "name": "stdout"
        }
      ]
    },
    {
      "cell_type": "markdown",
      "metadata": {
        "id": "j0UWNSGR9GJp",
        "colab_type": "text"
      },
      "source": [
        "Problema 2: Implementar un sistema que dada una cantidad y el valor de las monedas de cambio devuelva en el menor número posible de monedas la cantidad solicitada"
      ]
    },
    {
      "cell_type": "code",
      "metadata": {
        "id": "vvW1H6D_KM9Q",
        "colab_type": "code",
        "outputId": "87f3635e-b02f-432f-ff48-56a5886b39b1",
        "colab": {
          "base_uri": "https://localhost:8080/",
          "height": 34
        }
      },
      "source": [
        "def cambio_monedas(cantidad,sistema_monetario):\n",
        "  solucion = []\n",
        "  valor_acumulado = 0\n",
        "  if len(sistema_monetario) != 0:\n",
        "    for i in range(len(sistema_monetario)):\n",
        "        monedas = int((cantidad - valor_acumulado)/sistema_monetario[i])\n",
        "        solucion.append(monedas)\n",
        "        valor_acumulado += monedas * sistema_monetario[i]\n",
        "        if valor_acumulado == cantidad:\n",
        "          return solucion\n",
        "    if valor_acumulado != cantidad:\n",
        "      print(\"Es imposible realizar todo el cambio con el sistema elegido. El cambio más cercano es el siguiente: \".format(solucion))\n",
        "      return solucion\n",
        "\n",
        "sol = cambio_monedas(21,[25,10,5,1])\n",
        "print(sol)"
      ],
      "execution_count": 0,
      "outputs": [
        {
          "output_type": "stream",
          "text": [
            "[0, 2, 0, 1]\n"
          ],
          "name": "stdout"
        }
      ]
    },
    {
      "cell_type": "markdown",
      "metadata": {
        "id": "-N2dqc3c9njx",
        "colab_type": "text"
      },
      "source": [
        "Problema 3: Programar una función que resuelva el problema de las reinas. En un tablero NxN existen N reinas. Situarlas para que ninguna esté bajo ataque de otra."
      ]
    },
    {
      "cell_type": "code",
      "metadata": {
        "id": "Kq3SLYg6htRt",
        "colab_type": "code",
        "colab": {}
      },
      "source": [
        "def reinas(N, solucion,etapa):\n",
        "  \n",
        "  if N < etapa: \n",
        "    return False\n",
        "\n",
        "  for i in range(1,N+1):\n",
        "    solucion[etapa] = i\n",
        "    if es_prometedora(solucion,etapa):\n",
        "        if etapa == N-1:\n",
        "          print(\"\\nLa solución es: {}\\n\".format(solucion))\n",
        "        else:\n",
        "          reinas(N,solucion,etapa+1)\n",
        "    else:\n",
        "      None\n",
        "    solucion[etapa] = 0\n",
        "\n",
        "\n",
        "def es_prometedora(solucion,etapa):\n",
        "  for i in range(etapa+1): #comprobación de que no haya 2 reinas en la misma columna\n",
        "    if solucion.count(solucion[i])>1:\n",
        "      return False\n",
        "    for j in range(i+1,etapa + 1): #comprobación de que las reinas no estén en la diagonal\n",
        "      if abs(i-j) == abs(solucion[i]-solucion[j]):\n",
        "        return False\n",
        "  return True\n",
        "  "
      ],
      "execution_count": 0,
      "outputs": []
    },
    {
      "cell_type": "code",
      "metadata": {
        "id": "IFztOoLsf7fp",
        "colab_type": "code",
        "outputId": "f0ff52b0-d4cc-4788-8793-15f08d6a5514",
        "colab": {
          "base_uri": "https://localhost:8080/",
          "height": 119
        }
      },
      "source": [
        "reinas(4,[0,0,0,0],0)"
      ],
      "execution_count": 0,
      "outputs": [
        {
          "output_type": "stream",
          "text": [
            "\n",
            "La solución es: [2, 4, 1, 3]\n",
            "\n",
            "\n",
            "La solución es: [3, 1, 4, 2]\n",
            "\n"
          ],
          "name": "stdout"
        }
      ]
    },
    {
      "cell_type": "markdown",
      "metadata": {
        "id": "VV_vTRQD_ufl",
        "colab_type": "text"
      },
      "source": [
        "Problema 4: Encontrar los puntos más cercanos en 1D, 2D y 3D. \n",
        "Para 1D mediante fuerza bruta, para 2D y superiores, mediante divide y vencerás."
      ]
    },
    {
      "cell_type": "code",
      "metadata": {
        "id": "ADUDrduI_9Lh",
        "colab_type": "code",
        "colab": {}
      },
      "source": [
        "def puntos_cercanos_1d(lista):\n",
        "  distancia_menor = 1000000\n",
        "  numeros_cercanos = []\n",
        "  for i in range(len(lista)):\n",
        "    for j in range(i+1,len(lista)):\n",
        "      distancia = abs(lista[i]-lista[j])\n",
        "      if distancia < distancia_menor:\n",
        "        numeros_cercanos = []\n",
        "        distancia_menor = distancia\n",
        "        numeros_cercanos.append(lista[i])\n",
        "        numeros_cercanos.append(lista[j])\n",
        "  return distancia_menor, numeros_cercanos\n"
      ],
      "execution_count": 0,
      "outputs": []
    },
    {
      "cell_type": "code",
      "metadata": {
        "id": "gDe1_9xtADn2",
        "colab_type": "code",
        "colab": {}
      },
      "source": [
        "import random\n",
        "import math\n",
        "\n",
        "LISTA_1D = [random.randrange(1,1000) for x in range(7)]\n",
        "LISTA_2D = [(random.randrange(1,1000),random.randrange(1,1000)) for x in range(3)]"
      ],
      "execution_count": 0,
      "outputs": []
    },
    {
      "cell_type": "code",
      "metadata": {
        "id": "9Zxb67_BCYpL",
        "colab_type": "code",
        "outputId": "77c86b4f-0fe5-48de-d5f5-e2b81104f812",
        "colab": {
          "base_uri": "https://localhost:8080/",
          "height": 51
        }
      },
      "source": [
        "distancia_menor, numeros_cercanos = puntos_cercanos_1d(LISTA_1D)\n",
        "\n",
        "print(LISTA_1D)\n",
        "print(\"Los numeros más cercanos son: \" + str(numeros_cercanos) + \", cuya distancia es \"+ str(distancia_menor))"
      ],
      "execution_count": 0,
      "outputs": [
        {
          "output_type": "stream",
          "text": [
            "[3, 13, 446, 635, 586, 188, 373]\n",
            "Los numeros más cercanos son: [3, 13], cuya distancia es 10\n"
          ],
          "name": "stdout"
        }
      ]
    },
    {
      "cell_type": "markdown",
      "metadata": {
        "id": "Cw2c6hC-MjHF",
        "colab_type": "text"
      },
      "source": [
        "Para 1 dimensión, el grado de complejidad es N cuadrado."
      ]
    },
    {
      "cell_type": "code",
      "metadata": {
        "id": "MKlP8cEgZkJt",
        "colab_type": "code",
        "outputId": "12aff326-a7ce-4e6c-d7cf-39bfe0abde3f",
        "colab": {
          "base_uri": "https://localhost:8080/",
          "height": 34
        }
      },
      "source": [
        "print(LISTA_2D)"
      ],
      "execution_count": 0,
      "outputs": [
        {
          "output_type": "stream",
          "text": [
            "[(259, 871), (694, 579), (668, 211)]\n"
          ],
          "name": "stdout"
        }
      ]
    },
    {
      "cell_type": "code",
      "metadata": {
        "id": "BCxR5zAdNmwq",
        "colab_type": "code",
        "colab": {}
      },
      "source": [
        "\n"
      ],
      "execution_count": 0,
      "outputs": []
    },
    {
      "cell_type": "code",
      "metadata": {
        "id": "Fv9xPdkPbcaM",
        "colab_type": "code",
        "colab": {}
      },
      "source": [
        "distancia_n(LISTA_2D,2,0)"
      ],
      "execution_count": 0,
      "outputs": []
    }
  ]
}