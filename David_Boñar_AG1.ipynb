{
  "nbformat": 4,
  "nbformat_minor": 0,
  "metadata": {
    "colab": {
      "name": "David Boñar_AG1.ipynb",
      "provenance": [],
      "collapsed_sections": [],
      "include_colab_link": true
    },
    "kernelspec": {
      "name": "python3",
      "display_name": "Python 3"
    }
  },
  "cells": [
    {
      "cell_type": "markdown",
      "metadata": {
        "id": "view-in-github",
        "colab_type": "text"
      },
      "source": [
        "<a href=\"https://colab.research.google.com/github/davidbonar1/03MAIR_Algoritmos_de_Optimizacion_2019/blob/master/David_Bo%C3%B1ar_AG1.ipynb\" target=\"_parent\"><img src=\"https://colab.research.google.com/assets/colab-badge.svg\" alt=\"Open In Colab\"/></a>"
      ]
    },
    {
      "cell_type": "markdown",
      "metadata": {
        "id": "hAEtfSPN-jt3",
        "colab_type": "text"
      },
      "source": [
        "Actividad Guiada 1 de Algoritmos de Optimización\n",
        "\n",
        "David Boñar\n",
        "\n",
        "https://colab.research.google.com/drive/12Uogb_wSXuY_pVLANr7NY6gxIXHkIvSr\n",
        "\n",
        "https://github.com/davidbonar1/03MAIR_Algoritmos_de_Optimizacion_2019\n",
        "\n"
      ]
    },
    {
      "cell_type": "markdown",
      "metadata": {
        "id": "pWyNu83n9dhJ",
        "colab_type": "text"
      },
      "source": [
        "Problema 1: Programar una función que resuelva el problema de las torres de Hanoy."
      ]
    },
    {
      "cell_type": "code",
      "metadata": {
        "id": "k3f53pi08XZb",
        "colab_type": "code",
        "colab": {
          "base_uri": "https://localhost:8080/",
          "height": 272
        },
        "outputId": "78f4041a-fcc9-411b-f525-290190f3a37e"
      },
      "source": [
        "def torres_hanoy(N,desde,hasta):\n",
        "  if N==1:\n",
        "    print(\"Lleva la ficha desde {} hasta {}.\".format(desde,hasta))\n",
        "  else:\n",
        "    torres_hanoy(N-1,desde,6 -desde - hasta) #La operación de 6 - desde - hasta otorga siempre la torre que no está ocupada\n",
        "    print(\"Lleva la ficha desde {} hasta {}.\".format(desde,hasta))\n",
        "    torres_hanoy(N-1,6 -hasta - desde,hasta)\n",
        "\n",
        "\n",
        "torres_hanoy(4,1,3)"
      ],
      "execution_count": 4,
      "outputs": [
        {
          "output_type": "stream",
          "text": [
            "Lleva la ficha desde 1 hasta 2.\n",
            "Lleva la ficha desde 1 hasta 3.\n",
            "Lleva la ficha desde 2 hasta 3.\n",
            "Lleva la ficha desde 1 hasta 2.\n",
            "Lleva la ficha desde 3 hasta 1.\n",
            "Lleva la ficha desde 3 hasta 2.\n",
            "Lleva la ficha desde 1 hasta 2.\n",
            "Lleva la ficha desde 1 hasta 3.\n",
            "Lleva la ficha desde 2 hasta 3.\n",
            "Lleva la ficha desde 2 hasta 1.\n",
            "Lleva la ficha desde 3 hasta 1.\n",
            "Lleva la ficha desde 2 hasta 3.\n",
            "Lleva la ficha desde 1 hasta 2.\n",
            "Lleva la ficha desde 1 hasta 3.\n",
            "Lleva la ficha desde 2 hasta 3.\n"
          ],
          "name": "stdout"
        }
      ]
    },
    {
      "cell_type": "markdown",
      "metadata": {
        "id": "j0UWNSGR9GJp",
        "colab_type": "text"
      },
      "source": [
        "Problema 2: Implementar un sistema que dada una cantidad y el valor de las monedas de cambio devuelva en el menor número posible de monedas la cantidad solicitada"
      ]
    },
    {
      "cell_type": "code",
      "metadata": {
        "id": "vvW1H6D_KM9Q",
        "colab_type": "code",
        "colab": {
          "base_uri": "https://localhost:8080/",
          "height": 34
        },
        "outputId": "a39f3894-62bc-452d-f5fb-1d38266a7e02"
      },
      "source": [
        "def cambio_monedas(cantidad,sistema_monetario):\n",
        "  solucion = []\n",
        "  valor_acumulado = 0\n",
        "  if len(sistema_monetario) != 0:\n",
        "    for i in range(len(sistema_monetario)):\n",
        "        monedas = int((cantidad - valor_acumulado)/sistema_monetario[i])\n",
        "        solucion.append(monedas)\n",
        "        valor_acumulado += monedas * sistema_monetario[i]\n",
        "        if valor_acumulado == cantidad:\n",
        "          return solucion\n",
        "    if valor_acumulado != cantidad:\n",
        "      print(\"Es imposible realizar todo el cambio con el sistema elegido. El cambio más cercano es el siguiente: \".format(solucion))\n",
        "      return solucion\n",
        "\n",
        "sol = cambio_monedas(21,[25,10,5,1])\n",
        "print(sol)"
      ],
      "execution_count": 19,
      "outputs": [
        {
          "output_type": "stream",
          "text": [
            "[0, 2, 0, 1]\n"
          ],
          "name": "stdout"
        }
      ]
    },
    {
      "cell_type": "markdown",
      "metadata": {
        "id": "-N2dqc3c9njx",
        "colab_type": "text"
      },
      "source": [
        "Problema 3: Programar una función que resuelva el problema de las reinas. En un tablero NxN existen N reinas. Situarlas para que ninguna esté bajo ataque de otra."
      ]
    },
    {
      "cell_type": "code",
      "metadata": {
        "id": "Kq3SLYg6htRt",
        "colab_type": "code",
        "colab": {}
      },
      "source": [
        "def reinas(N, solucion,etapa):\n",
        "  \n",
        "  for i in range(1,N):\n",
        "    solucion[etapa] = i\n",
        "    if es_prometedora(solucion,etapa):\n",
        "        if etapa == N-1:\n",
        "          print(\"\\nLa solución es: {}\\n\".format(solucion))\n",
        "        else:\n",
        "          reinas(N,solucion,etapa+1)\n",
        "    solucion[etapa] = 0\n",
        "\n",
        "\n",
        "def es_prometedora(solucion,etapa):\n",
        "  for i in range(etapa): #comprobación de que no haya 2 reinas en la misma columna\n",
        "    if solucion.count(solucion[i])>1:\n",
        "      return false\n",
        "    for j in range(i+1,etapa + 1): #comprobación de que las reinas no estén en la diagonal\n",
        "      if abs(i-j) == abs(solucion[i]-solucion[j]):\n",
        "        return false\n",
        "  return true\n",
        "  "
      ],
      "execution_count": 0,
      "outputs": []
    }
  ]
}