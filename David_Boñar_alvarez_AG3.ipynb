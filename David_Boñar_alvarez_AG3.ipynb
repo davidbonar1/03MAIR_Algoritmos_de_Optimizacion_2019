{
  "nbformat": 4,
  "nbformat_minor": 0,
  "metadata": {
    "colab": {
      "name": "David_Boñar_alvarez_AG3.ipynb",
      "provenance": [],
      "collapsed_sections": [],
      "authorship_tag": "ABX9TyPjIrixJ/uwAwzlSeW2lCEy",
      "include_colab_link": true
    },
    "kernelspec": {
      "name": "python3",
      "display_name": "Python 3"
    }
  },
  "cells": [
    {
      "cell_type": "markdown",
      "metadata": {
        "id": "view-in-github",
        "colab_type": "text"
      },
      "source": [
        "<a href=\"https://colab.research.google.com/github/davidbonar1/03MAIR_Algoritmos_de_Optimizacion_2019/blob/master/David_Bo%C3%B1ar_alvarez_AG3.ipynb\" target=\"_parent\"><img src=\"https://colab.research.google.com/assets/colab-badge.svg\" alt=\"Open In Colab\"/></a>"
      ]
    },
    {
      "cell_type": "markdown",
      "metadata": {
        "id": "BNLijH8QF6re",
        "colab_type": "text"
      },
      "source": [
        "# Actividad Guiada 3 de Algoritmos de Optimización\n",
        "\n",
        "David Boñar\n",
        "\n",
        "https://colab.research.google.com/drive/1Kj2deB9jkmRiX4fAXHyzl8l_wq8Mxxju\n",
        "\n",
        "https://github.com/davidbonar1/03MAIR_Algoritmos_de_Optimizacion_2019"
      ]
    },
    {
      "cell_type": "markdown",
      "metadata": {
        "id": "v7qfPPShGNjf",
        "colab_type": "text"
      },
      "source": [
        "Ejercicio 1: Problema del agente viajero"
      ]
    },
    {
      "cell_type": "code",
      "metadata": {
        "id": "wzty-YMeFx3j",
        "colab_type": "code",
        "colab": {
          "base_uri": "https://localhost:8080/",
          "height": 104
        },
        "outputId": "0fd27eda-75c2-448a-b6a7-aad25cd3e6d0"
      },
      "source": [
        "!pip install requests"
      ],
      "execution_count": 1,
      "outputs": [
        {
          "output_type": "stream",
          "text": [
            "Requirement already satisfied: requests in /usr/local/lib/python3.6/dist-packages (2.21.0)\n",
            "Requirement already satisfied: idna<2.9,>=2.5 in /usr/local/lib/python3.6/dist-packages (from requests) (2.8)\n",
            "Requirement already satisfied: certifi>=2017.4.17 in /usr/local/lib/python3.6/dist-packages (from requests) (2019.11.28)\n",
            "Requirement already satisfied: urllib3<1.25,>=1.21.1 in /usr/local/lib/python3.6/dist-packages (from requests) (1.24.3)\n",
            "Requirement already satisfied: chardet<3.1.0,>=3.0.2 in /usr/local/lib/python3.6/dist-packages (from requests) (3.0.4)\n"
          ],
          "name": "stdout"
        }
      ]
    },
    {
      "cell_type": "code",
      "metadata": {
        "id": "yWX1deWpd8vO",
        "colab_type": "code",
        "colab": {
          "base_uri": "https://localhost:8080/",
          "height": 35
        },
        "outputId": "83f81185-e39e-4363-a585-c61b7b055ea8"
      },
      "source": [
        "import urllib.request\n",
        "\n",
        "file = \"swiss42.tsp\"\n",
        "\n",
        "urllib.request.urlretrieve(\"http://elib.zib.de/pub/mp-testdata/tsp/tsplib/tsp/swiss42.tsp\", file)"
      ],
      "execution_count": 2,
      "outputs": [
        {
          "output_type": "execute_result",
          "data": {
            "text/plain": [
              "('swiss42.tsp', <http.client.HTTPMessage at 0x7fab8d892be0>)"
            ]
          },
          "metadata": {
            "tags": []
          },
          "execution_count": 2
        }
      ]
    },
    {
      "cell_type": "code",
      "metadata": {
        "id": "SYOikOFOewKW",
        "colab_type": "code",
        "colab": {}
      },
      "source": [
        ""
      ],
      "execution_count": 0,
      "outputs": []
    },
    {
      "cell_type": "code",
      "metadata": {
        "id": "aqoBui9Ge2bU",
        "colab_type": "code",
        "colab": {
          "base_uri": "https://localhost:8080/",
          "height": 159
        },
        "outputId": "bacd8ec2-370e-40e3-bd63-4df8629dd1b7"
      },
      "source": [
        "!pip install tsplib95"
      ],
      "execution_count": 3,
      "outputs": [
        {
          "output_type": "stream",
          "text": [
            "Collecting tsplib95\n",
            "  Downloading https://files.pythonhosted.org/packages/dc/43/039c0621085202f19d6c12b06330bf109743083ce4024137b4713da9c40b/tsplib95-0.6.1-py2.py3-none-any.whl\n",
            "Requirement already satisfied: Click>=6.0 in /usr/local/lib/python3.6/dist-packages (from tsplib95) (7.0)\n",
            "Requirement already satisfied: networkx~=2.1 in /usr/local/lib/python3.6/dist-packages (from tsplib95) (2.4)\n",
            "Requirement already satisfied: decorator>=4.3.0 in /usr/local/lib/python3.6/dist-packages (from networkx~=2.1->tsplib95) (4.4.1)\n",
            "Installing collected packages: tsplib95\n",
            "Successfully installed tsplib95-0.6.1\n"
          ],
          "name": "stdout"
        }
      ]
    },
    {
      "cell_type": "code",
      "metadata": {
        "id": "u19z8IRjfGkR",
        "colab_type": "code",
        "colab": {}
      },
      "source": [
        ""
      ],
      "execution_count": 0,
      "outputs": []
    },
    {
      "cell_type": "code",
      "metadata": {
        "id": "tIdzu9ONfKVx",
        "colab_type": "code",
        "colab": {}
      },
      "source": [
        "import tsplib95\n",
        "import random\n",
        "import math"
      ],
      "execution_count": 0,
      "outputs": []
    },
    {
      "cell_type": "code",
      "metadata": {
        "id": "0EQfT1tnfP4z",
        "colab_type": "code",
        "colab": {}
      },
      "source": [
        "#Cargamos el problema en la variable problem\n",
        "problem = tsplib95.load_problem(file)"
      ],
      "execution_count": 0,
      "outputs": []
    },
    {
      "cell_type": "code",
      "metadata": {
        "id": "Z_kyWV3sf3oJ",
        "colab_type": "code",
        "colab": {}
      },
      "source": [
        "#Vamos a ver el número de nodos que tenemos (deberían salir 42 ciudades/nodos) y las aristas\n",
        "Nodos = list(problem.get_nodes())\n",
        "Aristas = list(problem.get_edges())"
      ],
      "execution_count": 0,
      "outputs": []
    },
    {
      "cell_type": "code",
      "metadata": {
        "id": "As45waKxgJSG",
        "colab_type": "code",
        "colab": {}
      },
      "source": [
        "#Funciones base:\n",
        "def crear_solucion_aleatoria(Nodos): #solucion aleatoria que comienza en el nodo 0\n",
        "  solucion = [0]\n",
        "  for i in range(len(Nodos)-1):\n",
        "    solucion = solucion + [random.choice(list(set(Nodos) - set(solucion)))] #hacemos que tome un nodo no elegido anteriormente (es decir quitando el 0 y los elegido antes)\n",
        "  return solucion\n",
        "\n",
        "def distancia(a,b,problem): #distancia entre 2 nodos\n",
        "  return problem.wfunc(a,b)\n",
        "\n",
        "def distancia_total(solucion, problem): #distancia total de una trayectoria\n",
        "  distancia_total = 0\n",
        "  for i in range(len(solucion)-1):\n",
        "    distancia_total += distancia(solucion[i] ,solucion[i+1] ,  problem)\n",
        "  return distancia_total + distancia(solucion[len(solucion)-1] ,solucion[0], problem)\n"
      ],
      "execution_count": 0,
      "outputs": []
    },
    {
      "cell_type": "code",
      "metadata": {
        "id": "9z_iagqKih8I",
        "colab_type": "code",
        "colab": {
          "base_uri": "https://localhost:8080/",
          "height": 35
        },
        "outputId": "6fd1ff4d-7f53-4295-d25d-0198fc004e3a"
      },
      "source": [
        "solucion = crear_solucion_aleatoria(Nodos)\n",
        "distancia_total (solucion, problem)"
      ],
      "execution_count": 8,
      "outputs": [
        {
          "output_type": "execute_result",
          "data": {
            "text/plain": [
              "4828"
            ]
          },
          "metadata": {
            "tags": []
          },
          "execution_count": 8
        }
      ]
    },
    {
      "cell_type": "code",
      "metadata": {
        "id": "Yswrn_buj-0x",
        "colab_type": "code",
        "colab": {
          "base_uri": "https://localhost:8080/",
          "height": 55
        },
        "outputId": "86f8819b-b752-4451-d30e-979ae59debdc"
      },
      "source": [
        "#Resolveremos el problema por búsqueda aleatoria\n",
        "\n",
        "def busqueda_aleatoria(problem, N):\n",
        "  mejor_solucion = crear_solucion_aleatoria(Nodos)\n",
        "  mejor_valor = distancia_total(mejor_solucion,problem)\n",
        "\n",
        "  for i in range(N):\n",
        "    solucion = crear_solucion_aleatoria(Nodos)\n",
        "    valor = distancia_total(solucion,problem)\n",
        "    if valor < mejor_valor:\n",
        "      mejor_solucion = solucion\n",
        "      mejor_valor = valor\n",
        "  print(\"La mejor solución es: \",mejor_valor,mejor_solucion)\n",
        "\n",
        "busqueda_aleatoria(problem,100000)"
      ],
      "execution_count": 9,
      "outputs": [
        {
          "output_type": "stream",
          "text": [
            "La mejor solución es:  3478 [0, 32, 28, 2, 38, 4, 6, 29, 10, 3, 1, 25, 22, 36, 16, 7, 14, 13, 5, 19, 18, 15, 37, 17, 26, 21, 24, 39, 41, 20, 35, 34, 8, 27, 11, 12, 9, 40, 23, 31, 30, 33]\n"
          ],
          "name": "stdout"
        }
      ]
    },
    {
      "cell_type": "markdown",
      "metadata": {
        "id": "9C7oGzN2lTJK",
        "colab_type": "text"
      },
      "source": [
        "La mejor solución encontrada es de 1273. Con este método d eresolución hemos obtenido del orden de 3500."
      ]
    },
    {
      "cell_type": "code",
      "metadata": {
        "id": "J0cLbecMlfX_",
        "colab_type": "code",
        "colab": {
          "base_uri": "https://localhost:8080/",
          "height": 55
        },
        "outputId": "47123a3b-d478-4120-a306-96b4ac80e722"
      },
      "source": [
        "#Generador de vecindad\n",
        "\n",
        "def genera_vecina(solucion):\n",
        "  #Generador de soluciones vecinas: 2-opt (intercambiar 2 nodos) Si hay N nodos se generan (N-1)x(N-2)/2 soluciones. Para este problema 820.\n",
        "  \n",
        "  mejor_solucion = []\n",
        "  mejor_distancia = 10e100\n",
        "  for i in range(1,len(solucion)-1): #cogemos desde el segundo nodo en adelante\n",
        "    for j in range(i+1, len(solucion)):\n",
        "      vecina = solucion[:i] + [solucion[j]] + solucion[i+1:j] + [solucion[i]] + solucion[j+1:] #se intercamia el nodo i por el nodo j, y el j por el nodo i\n",
        "      distancia_vecina = distancia_total(vecina, problem)\n",
        "      if distancia_vecina <= mejor_distancia:\n",
        "        mejor_distancia = distancia_vecina\n",
        "        mejor_solucion = vecina\n",
        "  return mejor_solucion\n",
        "      \n",
        "solucion = crear_solucion_aleatoria(Nodos)\n",
        "mejor_solucion = genera_vecina(solucion)\n",
        "print(mejor_solucion)"
      ],
      "execution_count": 10,
      "outputs": [
        {
          "output_type": "stream",
          "text": [
            "[0, 20, 3, 11, 30, 29, 37, 16, 26, 17, 38, 40, 9, 7, 13, 39, 21, 23, 10, 31, 5, 22, 18, 27, 15, 25, 19, 33, 32, 28, 1, 6, 12, 24, 14, 4, 34, 41, 8, 2, 36, 35]\n"
          ],
          "name": "stdout"
        }
      ]
    },
    {
      "cell_type": "code",
      "metadata": {
        "id": "0km04YXynYkx",
        "colab_type": "code",
        "colab": {
          "base_uri": "https://localhost:8080/",
          "height": 55
        },
        "outputId": "d22ab102-27db-4e58-c302-8f0736e51860"
      },
      "source": [
        "#Búsqueda local\n",
        "def busqueda_local(problem, N):\n",
        "  #problem = datos del problema\n",
        "  #N = numero de iteraciones\n",
        "  \n",
        "  mejor_solucion = []\n",
        "  mejor_distancia = 10e100\n",
        "  \n",
        "  solucion_referencia = crear_solucion_aleatoria(Nodos)\n",
        "  \n",
        "  for i in range(N):\n",
        "    vecina = genera_vecina(solucion_referencia)\n",
        "    distancia_vecina = distancia_total(vecina, problem)\n",
        "    if distancia_vecina <= mejor_distancia:\n",
        "      mejor_solucion = vecina\n",
        "      mejor_distancia = distancia_vecina\n",
        "        \n",
        "    solucion_referencia = vecina\n",
        "  print(\"La mejor solución encontrada es \" , mejor_distancia , mejor_solucion)\n",
        "\n",
        "busqueda_local(problem,1000)"
      ],
      "execution_count": 11,
      "outputs": [
        {
          "output_type": "stream",
          "text": [
            "La mejor solución encontrada es  1594 [0, 30, 29, 21, 24, 40, 23, 41, 9, 39, 22, 38, 34, 33, 20, 32, 31, 35, 36, 17, 37, 15, 16, 14, 7, 1, 6, 26, 18, 28, 8, 10, 25, 11, 12, 13, 19, 5, 4, 3, 2, 27]\n"
          ],
          "name": "stdout"
        }
      ]
    },
    {
      "cell_type": "markdown",
      "metadata": {
        "id": "pmDUY5tAo8Vo",
        "colab_type": "text"
      },
      "source": [
        "En este caso, con 100 veces menos iteraciones que con la búsqueda aleatoria hemos obtenido un resultado mucho mejor (doble)."
      ]
    },
    {
      "cell_type": "code",
      "metadata": {
        "id": "IDLIovfWpQJ6",
        "colab_type": "code",
        "colab": {}
      },
      "source": [
        "#Recocido simulado\n",
        "def genera_vecina_aleatorio(solucion):\n",
        "  #Generador de 1 solucion vecina 2-opt (intercambiar 2 nodos)\n",
        "  #Se puede mejorar haciendo que la elección no se uniforme sino entre las que estén más proximas\n",
        "  i = random.choice(range(1, len(solucion)) )\n",
        "  j = random.choice(list(set(range(1, len(solucion))) - {i}))\n",
        "  if j<i:\n",
        "    i,j=j,i\n",
        "  vecina = list(solucion[:i] + [solucion[j]] + solucion[i+1:j] + [solucion[i]] + solucion[j+1:])\n",
        "  return vecina\n",
        "\n",
        "#Funcion de probabilidad para determinar si se cambia a una solución peor respecto a la de referencia(exponencial)\n",
        "def probabilidad(T,d):\n",
        "  if random.random() <= math.exp(-1*d / T)   :\n",
        "    return True\n",
        "  else:\n",
        "    return False\n",
        "\n",
        "def bajar_temperatura(T): #descanso exponencial\n",
        "  return T*.9999\n"
      ],
      "execution_count": 0,
      "outputs": []
    },
    {
      "cell_type": "code",
      "metadata": {
        "id": "V6IuYp_94sJF",
        "colab_type": "code",
        "colab": {
          "base_uri": "https://localhost:8080/",
          "height": 72
        },
        "outputId": "62adda61-a70b-43f9-f0f3-9f38bfc6e7c9"
      },
      "source": [
        "#Comprobación de que se intercambian los nodos\n",
        "solucion = crear_solucion_aleatoria(Nodos)\n",
        "print(solucion,\"\\n\" ,genera_vecina_aleatorio(solucion))"
      ],
      "execution_count": 13,
      "outputs": [
        {
          "output_type": "stream",
          "text": [
            "[0, 30, 23, 17, 3, 1, 29, 35, 7, 33, 21, 15, 18, 32, 24, 8, 13, 39, 25, 11, 10, 27, 16, 22, 19, 14, 41, 36, 12, 5, 9, 4, 31, 26, 28, 38, 20, 37, 34, 2, 6, 40] \n",
            " [0, 30, 23, 17, 3, 1, 29, 35, 7, 33, 21, 15, 18, 32, 24, 8, 6, 39, 25, 11, 10, 27, 16, 22, 19, 14, 41, 36, 12, 5, 9, 4, 31, 26, 28, 38, 20, 37, 34, 2, 13, 40]\n"
          ],
          "name": "stdout"
        }
      ]
    },
    {
      "cell_type": "code",
      "metadata": {
        "id": "Q8HaF4wU5-Sl",
        "colab_type": "code",
        "colab": {}
      },
      "source": [
        "def recocido_simulado(problem, TEMPERATURA):\n",
        "  #problem = datos del problema\n",
        "\n",
        "  solucion_referencia = crear_solucion_aleatoria(Nodos)\n",
        "  distancia_referencia = distancia_total(solucion_referencia, problem)\n",
        "  \n",
        "  mejor_solucion = []\n",
        "  mejor_distancia = 10e100\n",
        "\n",
        "  while TEMPERATURA > 1: #critario de parada\n",
        "    #Genera una solución vecina(aleatoria)\n",
        "    vecina = genera_vecina_aleatorio(solucion_referencia) \n",
        "    \n",
        "    #Calcula su valor(distancia)\n",
        "    distancia_vecina = distancia_total(vecina, problem)\n",
        "    \n",
        "    #Si es la mejor solución de todas se guarda\n",
        "    if distancia_vecina < mejor_distancia:\n",
        "      mejor_solucion = vecina\n",
        "      mejor_distancia = distancia_vecina\n",
        "      print('\\t****Encontrada mejor solucion:', mejor_distancia , mejor_solucion, '\\n')\n",
        "    \n",
        "    #Si la nueva vecina es mejor se cambia y si es peor se cambia según \n",
        "    # una probabilidad dependiente de T y de |distancia_referencia - distancia_vecina|\n",
        "    p = probabilidad(TEMPERATURA, abs(distancia_referencia - distancia_vecina) )\n",
        "    if distancia_vecina < distancia_referencia or p :\n",
        "      solucion_referencia = vecina\n",
        "      distancia_referencia = distancia_vecina\n",
        "    \n",
        "    TEMPERATURA = bajar_temperatura(TEMPERATURA)\n",
        "\n",
        "  print(\"La mejor solución encontrada es :\" , mejor_distancia, mejor_solucion  )\n",
        "  return mejor_solucion\n"
      ],
      "execution_count": 0,
      "outputs": []
    },
    {
      "cell_type": "code",
      "metadata": {
        "id": "BGzYsUue6ZtA",
        "colab_type": "code",
        "colab": {
          "base_uri": "https://localhost:8080/",
          "height": 1000
        },
        "outputId": "cd7532ec-49df-4b45-d8bb-3bcde3431067"
      },
      "source": [
        "sol = recocido_simulado(problem,100000)"
      ],
      "execution_count": 15,
      "outputs": [
        {
          "output_type": "stream",
          "text": [
            "\t****Encontrada mejor solucion: 4692 [0, 33, 36, 2, 34, 20, 8, 29, 7, 19, 30, 18, 12, 5, 21, 41, 40, 25, 27, 10, 9, 1, 32, 38, 13, 17, 39, 15, 24, 6, 26, 28, 3, 37, 22, 16, 4, 14, 31, 35, 23, 11] \n",
            "\n",
            "\t****Encontrada mejor solucion: 4611 [0, 13, 36, 2, 34, 20, 8, 29, 7, 19, 30, 18, 12, 5, 21, 41, 40, 25, 27, 10, 9, 1, 32, 38, 33, 17, 24, 15, 39, 6, 26, 28, 3, 37, 22, 16, 4, 14, 31, 35, 23, 11] \n",
            "\n",
            "\t****Encontrada mejor solucion: 4601 [0, 13, 36, 2, 34, 20, 8, 29, 19, 7, 30, 18, 12, 5, 21, 41, 40, 25, 27, 10, 9, 1, 32, 38, 33, 17, 24, 15, 39, 6, 26, 28, 3, 37, 22, 16, 4, 14, 31, 35, 23, 11] \n",
            "\n",
            "\t****Encontrada mejor solucion: 4528 [0, 13, 29, 2, 10, 7, 3, 28, 11, 19, 30, 18, 12, 5, 21, 41, 40, 1, 27, 34, 9, 25, 23, 38, 26, 17, 24, 15, 39, 6, 36, 32, 8, 37, 22, 4, 16, 14, 31, 35, 33, 20] \n",
            "\n",
            "\t****Encontrada mejor solucion: 4494 [0, 13, 29, 2, 10, 7, 3, 28, 11, 19, 30, 18, 12, 5, 21, 41, 40, 1, 27, 34, 9, 25, 23, 38, 26, 14, 24, 15, 39, 6, 36, 32, 8, 37, 22, 4, 16, 17, 31, 35, 33, 20] \n",
            "\n",
            "\t****Encontrada mejor solucion: 4490 [0, 13, 29, 2, 10, 7, 3, 28, 11, 19, 30, 18, 12, 5, 21, 41, 40, 15, 27, 34, 9, 25, 23, 38, 26, 14, 24, 1, 39, 6, 36, 32, 8, 37, 22, 4, 16, 17, 31, 35, 33, 20] \n",
            "\n",
            "\t****Encontrada mejor solucion: 4133 [0, 13, 17, 2, 10, 7, 3, 28, 11, 19, 30, 18, 12, 5, 6, 41, 40, 15, 27, 34, 9, 25, 23, 38, 26, 14, 37, 1, 39, 21, 36, 16, 24, 8, 22, 4, 32, 29, 31, 35, 33, 20] \n",
            "\n",
            "\t****Encontrada mejor solucion: 4105 [0, 13, 17, 2, 10, 7, 3, 28, 11, 19, 30, 18, 12, 5, 6, 41, 40, 15, 31, 34, 9, 25, 23, 38, 26, 14, 37, 1, 39, 21, 36, 16, 24, 8, 22, 4, 32, 29, 27, 35, 33, 20] \n",
            "\n",
            "\t****Encontrada mejor solucion: 4043 [0, 13, 17, 2, 10, 12, 3, 28, 11, 19, 18, 30, 7, 5, 6, 41, 40, 15, 31, 34, 9, 25, 23, 38, 26, 14, 37, 1, 39, 21, 36, 16, 24, 8, 22, 4, 32, 29, 27, 35, 33, 20] \n",
            "\n",
            "\t****Encontrada mejor solucion: 3957 [0, 13, 17, 2, 10, 12, 3, 28, 6, 19, 18, 30, 7, 5, 11, 41, 40, 15, 31, 34, 9, 25, 23, 38, 26, 14, 37, 1, 39, 21, 36, 16, 24, 8, 22, 4, 32, 29, 27, 35, 33, 20] \n",
            "\n",
            "\t****Encontrada mejor solucion: 3719 [0, 37, 1, 32, 25, 18, 26, 11, 9, 23, 39, 29, 30, 38, 35, 28, 10, 6, 5, 7, 4, 24, 41, 19, 12, 34, 31, 2, 13, 17, 33, 20, 16, 27, 22, 21, 40, 8, 15, 14, 3, 36] \n",
            "\n",
            "\t****Encontrada mejor solucion: 3685 [0, 5, 4, 27, 16, 15, 19, 17, 28, 10, 25, 29, 8, 26, 40, 12, 11, 18, 23, 41, 36, 7, 37, 13, 30, 24, 3, 2, 6, 31, 32, 20, 35, 33, 22, 34, 39, 38, 14, 1, 9, 21] \n",
            "\n",
            "\t****Encontrada mejor solucion: 3671 [0, 5, 2, 27, 16, 15, 19, 17, 28, 10, 25, 29, 8, 26, 40, 12, 11, 18, 23, 41, 36, 7, 37, 13, 30, 24, 3, 4, 6, 31, 32, 20, 35, 33, 22, 34, 39, 38, 14, 1, 9, 21] \n",
            "\n",
            "\t****Encontrada mejor solucion: 3619 [0, 30, 22, 20, 2, 38, 39, 27, 36, 17, 18, 10, 28, 19, 1, 37, 35, 33, 9, 41, 11, 24, 21, 8, 12, 3, 25, 7, 6, 23, 40, 29, 31, 15, 5, 32, 34, 14, 16, 13, 4, 26] \n",
            "\n",
            "\t****Encontrada mejor solucion: 3597 [0, 37, 2, 10, 28, 1, 7, 6, 18, 13, 19, 34, 32, 4, 8, 24, 27, 31, 17, 23, 41, 11, 12, 3, 16, 15, 5, 29, 25, 39, 40, 20, 38, 26, 21, 22, 33, 35, 36, 14, 30, 9] \n",
            "\n",
            "\t****Encontrada mejor solucion: 3541 [0, 34, 10, 9, 17, 31, 7, 36, 35, 13, 25, 12, 29, 32, 39, 38, 22, 28, 20, 33, 37, 21, 40, 24, 1, 23, 11, 26, 41, 30, 14, 6, 5, 16, 4, 27, 2, 18, 19, 15, 8, 3] \n",
            "\n",
            "\t****Encontrada mejor solucion: 3536 [0, 36, 15, 16, 11, 9, 39, 23, 2, 33, 38, 34, 20, 14, 37, 12, 3, 27, 19, 21, 6, 4, 32, 26, 41, 8, 5, 18, 17, 35, 1, 7, 31, 28, 10, 25, 13, 30, 40, 24, 22, 29] \n",
            "\n",
            "\t****Encontrada mejor solucion: 3488 [0, 36, 15, 16, 11, 9, 39, 26, 2, 20, 38, 34, 33, 14, 37, 5, 3, 27, 19, 21, 6, 4, 32, 23, 41, 12, 8, 18, 17, 35, 1, 7, 31, 28, 10, 25, 13, 30, 40, 24, 22, 29] \n",
            "\n",
            "\t****Encontrada mejor solucion: 3467 [0, 36, 15, 16, 11, 9, 39, 26, 2, 20, 38, 34, 33, 14, 37, 5, 3, 27, 19, 21, 6, 4, 32, 23, 41, 12, 8, 18, 17, 7, 1, 35, 31, 28, 10, 25, 13, 30, 40, 24, 22, 29] \n",
            "\n",
            "\t****Encontrada mejor solucion: 3451 [0, 19, 32, 30, 39, 34, 20, 31, 14, 3, 36, 40, 24, 25, 9, 8, 29, 15, 16, 37, 33, 35, 27, 1, 17, 5, 7, 28, 23, 41, 11, 2, 21, 22, 38, 4, 10, 26, 18, 6, 13, 12] \n",
            "\n",
            "\t****Encontrada mejor solucion: 3431 [0, 26, 32, 39, 29, 11, 9, 30, 37, 36, 15, 14, 28, 3, 41, 12, 23, 2, 31, 35, 13, 10, 8, 5, 4, 6, 19, 16, 18, 33, 20, 25, 27, 1, 7, 17, 40, 24, 21, 22, 38, 34] \n",
            "\n",
            "\t****Encontrada mejor solucion: 3416 [0, 26, 32, 9, 29, 11, 39, 30, 36, 37, 15, 14, 28, 3, 1, 12, 25, 41, 31, 35, 13, 10, 8, 5, 4, 2, 19, 16, 18, 33, 20, 23, 27, 6, 7, 17, 40, 21, 24, 22, 38, 34] \n",
            "\n",
            "\t****Encontrada mejor solucion: 3353 [0, 26, 13, 9, 29, 11, 39, 30, 36, 37, 15, 2, 28, 3, 1, 12, 25, 41, 31, 35, 32, 10, 8, 5, 4, 14, 19, 16, 18, 33, 20, 23, 27, 6, 7, 17, 40, 21, 24, 22, 38, 34] \n",
            "\n",
            "\t****Encontrada mejor solucion: 3327 [0, 26, 13, 9, 29, 11, 39, 30, 36, 37, 15, 17, 28, 3, 1, 12, 25, 41, 31, 35, 32, 10, 8, 5, 4, 14, 19, 16, 18, 33, 20, 23, 27, 6, 7, 2, 40, 21, 24, 22, 38, 34] \n",
            "\n",
            "\t****Encontrada mejor solucion: 3231 [0, 1, 35, 36, 34, 37, 2, 4, 25, 29, 30, 28, 13, 5, 14, 16, 18, 10, 12, 19, 23, 3, 38, 26, 31, 15, 7, 6, 33, 20, 17, 9, 41, 8, 24, 21, 40, 22, 39, 11, 27, 32] \n",
            "\n",
            "\t****Encontrada mejor solucion: 3211 [0, 6, 35, 36, 34, 37, 2, 4, 25, 29, 30, 28, 13, 5, 14, 16, 18, 12, 26, 19, 23, 3, 38, 10, 31, 15, 7, 1, 33, 20, 17, 9, 41, 8, 24, 21, 40, 22, 39, 11, 27, 32] \n",
            "\n",
            "\t****Encontrada mejor solucion: 3203 [0, 38, 35, 36, 34, 37, 2, 4, 25, 29, 30, 32, 13, 5, 14, 16, 18, 12, 26, 19, 23, 3, 6, 10, 31, 15, 7, 1, 33, 20, 17, 9, 41, 8, 24, 21, 40, 22, 39, 11, 27, 28] \n",
            "\n",
            "\t****Encontrada mejor solucion: 3184 [0, 30, 35, 36, 34, 37, 19, 4, 25, 29, 38, 32, 13, 5, 14, 16, 18, 12, 26, 2, 23, 3, 6, 10, 31, 15, 7, 1, 33, 20, 17, 9, 41, 8, 24, 21, 40, 22, 39, 11, 27, 28] \n",
            "\n",
            "\t****Encontrada mejor solucion: 3178 [0, 30, 35, 36, 34, 37, 19, 4, 10, 29, 38, 32, 13, 5, 14, 16, 18, 12, 26, 2, 23, 3, 6, 25, 31, 15, 7, 1, 33, 20, 17, 9, 41, 8, 24, 21, 40, 22, 39, 11, 27, 28] \n",
            "\n",
            "\t****Encontrada mejor solucion: 3152 [0, 30, 35, 36, 34, 37, 19, 4, 10, 29, 38, 32, 13, 5, 14, 16, 18, 12, 26, 2, 23, 9, 6, 25, 31, 15, 7, 1, 33, 20, 17, 3, 41, 8, 24, 21, 40, 22, 39, 11, 27, 28] \n",
            "\n",
            "\t****Encontrada mejor solucion: 3100 [0, 38, 22, 29, 2, 18, 27, 12, 41, 40, 21, 9, 14, 16, 19, 6, 26, 1, 8, 15, 13, 37, 36, 35, 33, 34, 5, 28, 10, 11, 3, 4, 23, 30, 25, 24, 39, 20, 7, 32, 31, 17] \n",
            "\n",
            "\t****Encontrada mejor solucion: 3089 [0, 37, 36, 35, 33, 20, 34, 32, 23, 40, 41, 9, 21, 24, 25, 30, 27, 38, 6, 7, 16, 8, 1, 31, 14, 5, 13, 19, 22, 39, 2, 11, 18, 29, 4, 3, 15, 26, 12, 10, 28, 17] \n",
            "\n",
            "\t****Encontrada mejor solucion: 3055 [0, 6, 19, 32, 5, 28, 31, 15, 1, 37, 17, 7, 26, 10, 18, 41, 33, 34, 20, 30, 23, 9, 39, 40, 21, 8, 29, 27, 11, 16, 14, 38, 22, 24, 12, 25, 13, 4, 2, 3, 35, 36] \n",
            "\n",
            "\t****Encontrada mejor solucion: 3047 [0, 6, 19, 32, 13, 28, 31, 15, 1, 37, 17, 7, 26, 27, 18, 41, 33, 34, 20, 30, 23, 9, 39, 40, 21, 8, 29, 10, 11, 16, 14, 38, 22, 24, 12, 25, 5, 4, 2, 3, 35, 36] \n",
            "\n",
            "\t****Encontrada mejor solucion: 2889 [0, 6, 19, 13, 32, 28, 31, 15, 1, 37, 17, 7, 26, 27, 18, 41, 33, 34, 20, 30, 23, 9, 39, 40, 21, 8, 29, 10, 11, 16, 14, 38, 22, 24, 12, 25, 5, 4, 2, 3, 35, 36] \n",
            "\n",
            "\t****Encontrada mejor solucion: 2857 [0, 6, 19, 13, 32, 28, 31, 15, 1, 37, 17, 7, 26, 27, 18, 41, 33, 34, 20, 30, 23, 9, 39, 40, 21, 8, 29, 10, 25, 16, 14, 38, 22, 24, 12, 11, 5, 4, 2, 3, 35, 36] \n",
            "\n",
            "\t****Encontrada mejor solucion: 2769 [0, 4, 8, 9, 41, 10, 1, 3, 19, 5, 30, 28, 38, 22, 24, 39, 40, 21, 2, 29, 25, 23, 33, 34, 36, 35, 15, 16, 14, 6, 32, 27, 11, 13, 12, 18, 17, 20, 31, 26, 7, 37] \n",
            "\n",
            "\t****Encontrada mejor solucion: 2763 [0, 38, 30, 9, 41, 10, 1, 4, 12, 6, 29, 28, 2, 22, 24, 39, 40, 21, 8, 23, 25, 3, 33, 34, 5, 13, 19, 16, 14, 35, 36, 18, 11, 26, 15, 27, 7, 20, 31, 37, 17, 32] \n",
            "\n",
            "\t****Encontrada mejor solucion: 2735 [0, 40, 21, 39, 41, 23, 29, 25, 10, 30, 26, 11, 9, 38, 34, 33, 28, 8, 22, 24, 13, 18, 12, 4, 3, 5, 19, 15, 16, 6, 14, 7, 32, 27, 2, 1, 37, 17, 20, 31, 35, 36] \n",
            "\n",
            "\t****Encontrada mejor solucion: 2671 [0, 40, 21, 39, 41, 23, 11, 25, 10, 30, 26, 29, 9, 38, 34, 33, 28, 8, 22, 24, 13, 18, 12, 4, 3, 5, 19, 15, 16, 6, 14, 7, 32, 27, 2, 1, 37, 17, 20, 31, 35, 36] \n",
            "\n",
            "\t****Encontrada mejor solucion: 2669 [0, 40, 21, 39, 41, 23, 11, 25, 10, 30, 8, 29, 9, 38, 34, 33, 28, 26, 22, 24, 13, 18, 12, 4, 3, 5, 19, 15, 16, 6, 14, 7, 32, 27, 2, 1, 37, 17, 20, 31, 35, 36] \n",
            "\n",
            "\t****Encontrada mejor solucion: 2651 [0, 23, 21, 24, 40, 8, 11, 25, 10, 4, 18, 3, 30, 32, 34, 33, 22, 9, 38, 39, 41, 16, 17, 31, 7, 5, 13, 19, 2, 20, 1, 6, 29, 28, 27, 12, 26, 14, 37, 15, 36, 35] \n",
            "\n",
            "\t****Encontrada mejor solucion: 2611 [0, 23, 21, 24, 40, 8, 11, 25, 27, 4, 18, 3, 30, 32, 34, 33, 22, 39, 38, 9, 41, 16, 17, 31, 7, 5, 13, 19, 2, 20, 1, 6, 29, 28, 10, 12, 26, 14, 37, 15, 36, 35] \n",
            "\n",
            "\t****Encontrada mejor solucion: 2602 [0, 23, 21, 24, 40, 8, 11, 25, 27, 6, 18, 3, 28, 32, 34, 33, 22, 39, 38, 9, 41, 37, 17, 31, 7, 5, 13, 19, 2, 4, 1, 10, 29, 30, 20, 12, 26, 14, 16, 15, 36, 35] \n",
            "\n",
            "\t****Encontrada mejor solucion: 2512 [0, 23, 21, 24, 40, 8, 11, 25, 27, 12, 18, 3, 28, 32, 34, 33, 22, 39, 38, 9, 41, 37, 17, 31, 7, 5, 13, 19, 2, 4, 26, 10, 29, 30, 20, 6, 1, 14, 16, 15, 36, 35] \n",
            "\n",
            "\t****Encontrada mejor solucion: 2511 [0, 4, 39, 21, 40, 24, 29, 2, 3, 28, 37, 17, 35, 36, 20, 34, 33, 22, 30, 38, 18, 19, 13, 14, 31, 16, 27, 15, 26, 6, 1, 7, 9, 41, 23, 8, 10, 25, 11, 12, 5, 32] \n",
            "\n",
            "\t****Encontrada mejor solucion: 2476 [0, 4, 39, 21, 40, 24, 29, 2, 3, 28, 37, 17, 35, 36, 20, 34, 33, 22, 30, 38, 18, 13, 19, 14, 31, 16, 27, 15, 26, 6, 1, 7, 9, 41, 23, 8, 10, 25, 11, 12, 5, 32] \n",
            "\n",
            "\t****Encontrada mejor solucion: 2466 [0, 27, 39, 21, 40, 24, 18, 2, 28, 3, 37, 17, 35, 36, 20, 34, 33, 22, 30, 38, 5, 13, 19, 14, 31, 16, 1, 15, 26, 6, 4, 9, 29, 41, 23, 8, 10, 25, 11, 12, 7, 32] \n",
            "\n",
            "\t****Encontrada mejor solucion: 2463 [0, 3, 24, 21, 40, 30, 27, 2, 28, 32, 37, 7, 35, 36, 20, 34, 38, 22, 29, 33, 31, 13, 19, 15, 5, 6, 17, 1, 26, 18, 4, 9, 39, 41, 23, 8, 10, 25, 11, 12, 14, 16] \n",
            "\n",
            "\t****Encontrada mejor solucion: 2433 [0, 3, 21, 24, 40, 30, 27, 2, 28, 32, 37, 7, 35, 36, 20, 34, 38, 22, 29, 33, 31, 13, 19, 15, 5, 6, 17, 1, 26, 18, 4, 9, 39, 41, 23, 8, 10, 25, 11, 12, 14, 16] \n",
            "\n",
            "\t****Encontrada mejor solucion: 2372 [0, 3, 21, 24, 40, 30, 27, 2, 28, 32, 37, 7, 35, 36, 20, 34, 38, 22, 29, 33, 31, 17, 19, 15, 5, 6, 13, 1, 26, 18, 4, 9, 39, 41, 23, 8, 10, 25, 11, 12, 14, 16] \n",
            "\n",
            "\t****Encontrada mejor solucion: 2352 [0, 3, 21, 24, 40, 30, 27, 2, 28, 32, 37, 7, 35, 36, 20, 34, 38, 22, 29, 33, 31, 17, 19, 15, 5, 6, 13, 1, 26, 18, 4, 9, 39, 23, 41, 8, 10, 25, 11, 12, 14, 16] \n",
            "\n",
            "\t****Encontrada mejor solucion: 2337 [0, 3, 21, 24, 40, 30, 27, 2, 28, 32, 37, 7, 35, 36, 20, 34, 38, 22, 29, 33, 31, 17, 19, 15, 14, 6, 13, 1, 26, 18, 4, 9, 39, 23, 41, 8, 10, 25, 11, 12, 5, 16] \n",
            "\n",
            "\t****Encontrada mejor solucion: 2322 [0, 4, 6, 28, 27, 3, 17, 36, 31, 35, 16, 19, 15, 37, 7, 5, 13, 18, 25, 23, 21, 40, 24, 9, 41, 8, 29, 34, 20, 33, 32, 38, 22, 39, 2, 26, 12, 30, 10, 11, 14, 1] \n",
            "\n",
            "\t****Encontrada mejor solucion: 2291 [0, 4, 2, 28, 27, 3, 17, 36, 31, 35, 16, 19, 15, 37, 7, 5, 13, 18, 25, 23, 21, 40, 24, 9, 41, 8, 29, 34, 20, 33, 32, 38, 22, 39, 6, 26, 12, 30, 10, 11, 14, 1] \n",
            "\n",
            "\t****Encontrada mejor solucion: 2235 [0, 4, 27, 28, 2, 3, 17, 36, 31, 35, 1, 5, 15, 37, 7, 19, 13, 18, 25, 23, 21, 40, 24, 9, 41, 8, 29, 34, 20, 33, 32, 38, 22, 39, 6, 26, 12, 11, 10, 30, 14, 16] \n",
            "\n",
            "\t****Encontrada mejor solucion: 2215 [0, 4, 27, 28, 2, 3, 17, 36, 31, 35, 1, 5, 15, 37, 7, 19, 13, 18, 25, 23, 21, 40, 24, 9, 41, 8, 30, 34, 20, 33, 32, 38, 22, 39, 6, 26, 12, 11, 10, 29, 14, 16] \n",
            "\n",
            "\t****Encontrada mejor solucion: 2202 [0, 7, 1, 19, 5, 4, 29, 17, 35, 36, 37, 16, 15, 14, 13, 26, 31, 18, 25, 23, 21, 24, 40, 9, 41, 8, 30, 33, 20, 34, 32, 38, 22, 39, 28, 10, 11, 12, 3, 2, 27, 6] \n",
            "\n",
            "\t****Encontrada mejor solucion: 2177 [0, 1, 7, 19, 5, 4, 29, 17, 35, 36, 37, 16, 15, 14, 13, 26, 31, 18, 25, 23, 21, 24, 40, 9, 41, 8, 30, 33, 20, 34, 32, 38, 22, 39, 28, 10, 11, 12, 3, 2, 27, 6] \n",
            "\n",
            "\t****Encontrada mejor solucion: 2172 [0, 1, 7, 19, 5, 4, 29, 17, 35, 36, 31, 16, 15, 14, 13, 26, 37, 18, 25, 23, 21, 24, 40, 9, 41, 8, 30, 33, 20, 34, 32, 38, 22, 39, 28, 10, 11, 12, 3, 2, 27, 6] \n",
            "\n",
            "\t****Encontrada mejor solucion: 2114 [0, 1, 6, 19, 13, 27, 14, 17, 35, 36, 31, 16, 15, 37, 7, 26, 11, 18, 25, 9, 21, 24, 40, 23, 8, 32, 20, 33, 34, 30, 29, 38, 22, 39, 28, 10, 41, 12, 5, 2, 4, 3] \n",
            "\n",
            "\t****Encontrada mejor solucion: 2093 [0, 1, 6, 19, 13, 27, 14, 17, 35, 36, 31, 15, 16, 37, 7, 12, 11, 18, 25, 9, 21, 24, 40, 23, 41, 32, 20, 33, 34, 30, 29, 38, 22, 39, 28, 10, 8, 26, 5, 2, 4, 3] \n",
            "\n",
            "\t****Encontrada mejor solucion: 2087 [0, 1, 6, 19, 13, 27, 14, 17, 35, 36, 31, 15, 16, 37, 7, 12, 11, 18, 28, 9, 21, 24, 40, 23, 41, 32, 20, 33, 34, 30, 29, 38, 22, 39, 25, 10, 8, 26, 5, 2, 4, 3] \n",
            "\n",
            "\t****Encontrada mejor solucion: 2079 [0, 1, 5, 19, 13, 27, 14, 17, 35, 36, 31, 15, 16, 37, 7, 12, 11, 18, 28, 9, 21, 24, 40, 23, 41, 32, 20, 33, 34, 30, 29, 38, 22, 39, 25, 10, 8, 26, 6, 2, 4, 3] \n",
            "\n",
            "\t****Encontrada mejor solucion: 2061 [0, 32, 29, 10, 12, 19, 14, 15, 16, 37, 36, 35, 17, 27, 18, 26, 13, 5, 6, 11, 25, 41, 9, 21, 23, 8, 30, 31, 20, 33, 34, 38, 22, 39, 40, 24, 28, 2, 1, 7, 4, 3] \n",
            "\n",
            "\t****Encontrada mejor solucion: 2052 [0, 32, 29, 10, 12, 19, 14, 15, 16, 37, 36, 35, 17, 27, 18, 26, 13, 5, 6, 11, 25, 41, 9, 21, 23, 8, 28, 31, 20, 33, 34, 38, 22, 39, 40, 24, 30, 2, 1, 7, 4, 3] \n",
            "\n",
            "\t****Encontrada mejor solucion: 2000 [0, 32, 29, 10, 12, 19, 14, 15, 16, 37, 36, 35, 17, 31, 18, 26, 13, 5, 6, 11, 25, 41, 9, 21, 23, 8, 28, 27, 20, 33, 34, 38, 22, 39, 40, 24, 30, 2, 1, 7, 4, 3] \n",
            "\n",
            "\t****Encontrada mejor solucion: 1993 [0, 29, 27, 10, 13, 19, 14, 15, 16, 37, 36, 35, 17, 31, 18, 12, 26, 5, 6, 11, 25, 41, 9, 21, 23, 8, 28, 32, 20, 33, 34, 38, 22, 39, 40, 24, 30, 2, 1, 7, 4, 3] \n",
            "\n",
            "\t****Encontrada mejor solucion: 1989 [0, 28, 10, 27, 13, 19, 14, 15, 16, 37, 36, 35, 17, 31, 18, 12, 26, 5, 6, 11, 25, 41, 9, 21, 23, 8, 29, 32, 20, 33, 34, 38, 22, 39, 40, 24, 30, 2, 1, 7, 4, 3] \n",
            "\n",
            "\t****Encontrada mejor solucion: 1959 [0, 28, 6, 27, 13, 19, 14, 15, 16, 37, 17, 35, 36, 31, 18, 12, 26, 5, 10, 11, 25, 41, 9, 21, 23, 8, 29, 32, 20, 33, 34, 38, 22, 39, 40, 24, 30, 2, 1, 3, 4, 7] \n",
            "\n",
            "\t****Encontrada mejor solucion: 1886 [0, 1, 6, 27, 13, 19, 14, 15, 16, 37, 17, 35, 36, 31, 18, 12, 26, 5, 10, 11, 25, 41, 9, 21, 23, 8, 29, 32, 20, 33, 34, 38, 22, 39, 40, 24, 30, 2, 28, 3, 4, 7] \n",
            "\n",
            "\t****Encontrada mejor solucion: 1861 [0, 1, 6, 3, 13, 19, 14, 15, 16, 37, 17, 35, 36, 31, 18, 12, 26, 5, 10, 11, 25, 41, 9, 21, 23, 8, 29, 32, 20, 33, 34, 38, 22, 39, 40, 24, 30, 2, 28, 27, 4, 7] \n",
            "\n",
            "\t****Encontrada mejor solucion: 1855 [0, 1, 6, 3, 13, 19, 14, 15, 16, 37, 17, 35, 36, 31, 18, 12, 26, 5, 10, 11, 25, 41, 9, 21, 23, 8, 30, 32, 20, 33, 34, 38, 22, 39, 40, 24, 29, 2, 28, 27, 4, 7] \n",
            "\n",
            "\t****Encontrada mejor solucion: 1853 [0, 2, 26, 5, 13, 19, 14, 16, 15, 37, 36, 35, 20, 31, 17, 27, 18, 12, 11, 10, 25, 23, 41, 24, 40, 21, 29, 30, 32, 33, 34, 22, 38, 39, 9, 8, 28, 7, 1, 4, 3, 6] \n",
            "\n",
            "\t****Encontrada mejor solucion: 1841 [0, 2, 26, 5, 13, 19, 14, 16, 15, 37, 36, 35, 20, 31, 17, 27, 18, 12, 11, 25, 10, 23, 41, 24, 40, 21, 29, 30, 32, 33, 34, 22, 38, 39, 9, 8, 28, 7, 1, 4, 3, 6] \n",
            "\n",
            "\t****Encontrada mejor solucion: 1830 [0, 28, 26, 5, 13, 19, 14, 16, 15, 37, 36, 35, 20, 31, 17, 2, 18, 12, 11, 25, 10, 8, 41, 24, 40, 21, 29, 30, 32, 33, 34, 38, 22, 39, 9, 23, 27, 7, 3, 4, 6, 1] \n",
            "\n",
            "\t****Encontrada mejor solucion: 1804 [0, 28, 26, 5, 13, 19, 14, 16, 15, 37, 36, 35, 20, 31, 17, 2, 18, 12, 11, 25, 10, 8, 9, 24, 40, 21, 29, 30, 32, 33, 34, 38, 22, 39, 23, 41, 27, 7, 3, 4, 6, 1] \n",
            "\n",
            "\t****Encontrada mejor solucion: 1803 [0, 27, 26, 5, 13, 19, 15, 16, 14, 37, 36, 35, 33, 31, 17, 6, 18, 12, 11, 25, 10, 8, 39, 24, 40, 21, 29, 30, 32, 34, 20, 38, 22, 9, 23, 41, 4, 7, 1, 3, 2, 28] \n",
            "\n",
            "\t****Encontrada mejor solucion: 1764 [0, 1, 5, 26, 13, 19, 15, 16, 14, 37, 36, 35, 20, 31, 17, 6, 18, 12, 11, 25, 10, 8, 39, 24, 40, 21, 29, 30, 32, 34, 33, 38, 22, 9, 23, 41, 4, 27, 7, 3, 2, 28] \n",
            "\n",
            "\t****Encontrada mejor solucion: 1761 [0, 1, 6, 26, 13, 19, 15, 16, 14, 37, 36, 35, 20, 31, 17, 5, 18, 12, 11, 25, 10, 8, 39, 24, 40, 21, 29, 30, 32, 34, 33, 38, 22, 9, 23, 41, 4, 27, 7, 28, 2, 3] \n",
            "\n",
            "\t****Encontrada mejor solucion: 1751 [0, 3, 6, 5, 13, 19, 15, 14, 16, 37, 36, 35, 20, 31, 17, 7, 18, 12, 11, 10, 25, 8, 39, 24, 40, 21, 29, 30, 32, 34, 33, 38, 22, 9, 23, 41, 28, 1, 26, 4, 2, 27] \n",
            "\n",
            "\t****Encontrada mejor solucion: 1750 [0, 26, 6, 5, 13, 19, 15, 14, 16, 37, 36, 35, 20, 31, 17, 7, 18, 12, 11, 10, 25, 8, 39, 40, 24, 21, 29, 30, 32, 34, 33, 38, 22, 9, 23, 41, 28, 1, 4, 3, 27, 2] \n",
            "\n",
            "\t****Encontrada mejor solucion: 1744 [0, 1, 6, 5, 13, 19, 15, 14, 16, 37, 36, 35, 20, 31, 17, 7, 18, 12, 11, 10, 25, 8, 39, 40, 24, 21, 29, 30, 32, 34, 33, 38, 22, 9, 23, 41, 28, 26, 3, 4, 27, 2] \n",
            "\n",
            "\t****Encontrada mejor solucion: 1733 [0, 1, 6, 5, 13, 19, 15, 14, 16, 37, 36, 35, 20, 31, 17, 7, 18, 12, 11, 10, 25, 8, 39, 24, 40, 21, 29, 30, 32, 34, 33, 38, 22, 9, 23, 41, 28, 26, 3, 4, 27, 2] \n",
            "\n",
            "\t****Encontrada mejor solucion: 1726 [0, 1, 6, 5, 13, 19, 15, 14, 16, 37, 36, 35, 20, 31, 17, 7, 18, 12, 11, 10, 25, 8, 39, 24, 40, 21, 29, 30, 32, 34, 33, 38, 22, 9, 23, 41, 28, 2, 3, 4, 27, 26] \n",
            "\n",
            "\t****Encontrada mejor solucion: 1698 [0, 1, 6, 5, 13, 19, 14, 15, 16, 37, 36, 35, 20, 31, 17, 7, 18, 12, 11, 25, 10, 8, 39, 24, 40, 21, 29, 30, 32, 34, 33, 38, 22, 9, 23, 41, 28, 2, 3, 26, 27, 4] \n",
            "\n",
            "\t****Encontrada mejor solucion: 1697 [0, 1, 5, 13, 19, 16, 14, 15, 7, 37, 36, 35, 31, 17, 32, 30, 28, 11, 12, 25, 41, 23, 9, 39, 24, 40, 21, 22, 38, 34, 33, 20, 29, 2, 3, 10, 8, 18, 26, 6, 4, 27] \n",
            "\n",
            "\t****Encontrada mejor solucion: 1687 [0, 1, 5, 13, 19, 16, 14, 15, 7, 37, 36, 35, 31, 17, 32, 30, 28, 11, 12, 25, 41, 23, 9, 39, 21, 40, 24, 22, 38, 34, 33, 20, 29, 2, 3, 10, 8, 18, 26, 6, 4, 27] \n",
            "\n",
            "\t****Encontrada mejor solucion: 1685 [0, 6, 5, 19, 13, 16, 14, 15, 7, 37, 36, 35, 31, 17, 32, 30, 29, 8, 12, 11, 41, 23, 9, 39, 21, 40, 24, 22, 38, 34, 33, 20, 3, 28, 27, 10, 25, 18, 26, 2, 4, 1] \n",
            "\n",
            "\t****Encontrada mejor solucion: 1665 [0, 6, 5, 19, 13, 14, 16, 15, 37, 17, 31, 35, 36, 7, 2, 3, 29, 8, 11, 12, 41, 23, 9, 39, 21, 40, 24, 22, 38, 34, 33, 20, 32, 30, 28, 25, 10, 18, 26, 27, 4, 1] \n",
            "\n",
            "\t****Encontrada mejor solucion: 1650 [0, 6, 5, 19, 13, 14, 16, 15, 37, 17, 31, 35, 36, 7, 1, 3, 29, 8, 11, 12, 41, 23, 9, 39, 21, 40, 24, 22, 38, 34, 33, 20, 32, 30, 28, 25, 10, 18, 26, 27, 4, 2] \n",
            "\n",
            "\t****Encontrada mejor solucion: 1629 [0, 6, 5, 19, 13, 14, 16, 15, 37, 17, 31, 35, 36, 7, 1, 3, 28, 8, 11, 12, 41, 23, 9, 39, 21, 40, 24, 22, 38, 34, 33, 20, 32, 30, 29, 25, 10, 18, 26, 27, 4, 2] \n",
            "\n",
            "\t****Encontrada mejor solucion: 1616 [0, 6, 5, 19, 13, 14, 16, 15, 37, 17, 36, 35, 31, 7, 1, 27, 28, 8, 11, 12, 41, 23, 9, 39, 21, 40, 24, 22, 38, 34, 20, 33, 32, 30, 29, 25, 10, 18, 26, 3, 4, 2] \n",
            "\n",
            "\t****Encontrada mejor solucion: 1614 [0, 6, 5, 19, 13, 14, 15, 16, 37, 17, 36, 35, 31, 7, 2, 27, 28, 8, 11, 12, 41, 23, 9, 39, 21, 40, 24, 22, 38, 34, 20, 33, 32, 30, 29, 25, 10, 18, 26, 4, 3, 1] \n",
            "\n",
            "\t****Encontrada mejor solucion: 1602 [0, 6, 5, 19, 13, 14, 16, 15, 37, 17, 36, 35, 31, 7, 2, 27, 28, 8, 11, 25, 41, 23, 9, 39, 21, 40, 24, 22, 38, 34, 20, 33, 32, 30, 29, 12, 10, 18, 26, 4, 3, 1] \n",
            "\n",
            "\t****Encontrada mejor solucion: 1594 [0, 6, 5, 13, 19, 14, 16, 15, 37, 17, 36, 35, 31, 7, 2, 27, 28, 8, 12, 11, 41, 23, 9, 39, 21, 40, 24, 22, 38, 20, 34, 33, 32, 30, 29, 25, 10, 18, 26, 4, 3, 1] \n",
            "\n",
            "\t****Encontrada mejor solucion: 1577 [0, 6, 5, 13, 19, 14, 16, 15, 37, 17, 36, 35, 31, 7, 2, 27, 28, 8, 10, 11, 41, 23, 9, 39, 21, 40, 24, 22, 38, 20, 34, 33, 32, 30, 29, 25, 12, 18, 26, 4, 3, 1] \n",
            "\n",
            "\t****Encontrada mejor solucion: 1575 [0, 6, 5, 13, 19, 37, 15, 16, 14, 17, 36, 35, 31, 7, 1, 2, 29, 8, 10, 25, 41, 23, 9, 39, 21, 40, 24, 22, 38, 34, 33, 20, 32, 30, 28, 18, 11, 12, 26, 4, 3, 27] \n",
            "\n",
            "\t****Encontrada mejor solucion: 1567 [0, 6, 5, 13, 19, 15, 37, 16, 14, 17, 36, 35, 31, 7, 27, 2, 29, 8, 10, 25, 41, 23, 9, 39, 21, 40, 24, 22, 38, 34, 33, 20, 32, 30, 28, 12, 11, 18, 26, 4, 3, 1] \n",
            "\n",
            "\t****Encontrada mejor solucion: 1560 [0, 6, 5, 13, 19, 14, 37, 16, 15, 17, 36, 35, 31, 7, 27, 2, 29, 8, 10, 25, 41, 23, 9, 39, 21, 40, 24, 22, 38, 34, 33, 20, 32, 30, 28, 12, 11, 18, 26, 4, 3, 1] \n",
            "\n",
            "\t****Encontrada mejor solucion: 1553 [0, 3, 5, 13, 19, 16, 14, 37, 15, 17, 36, 35, 31, 7, 27, 2, 28, 8, 10, 25, 41, 23, 9, 39, 21, 40, 24, 22, 38, 34, 33, 20, 32, 30, 29, 11, 12, 18, 26, 6, 4, 1] \n",
            "\n",
            "\t****Encontrada mejor solucion: 1521 [0, 27, 5, 13, 19, 14, 16, 15, 37, 17, 36, 35, 31, 7, 3, 2, 28, 8, 10, 25, 41, 23, 9, 39, 21, 40, 24, 22, 38, 34, 33, 20, 32, 30, 29, 11, 12, 18, 26, 6, 4, 1] \n",
            "\n",
            "\t****Encontrada mejor solucion: 1506 [0, 6, 5, 13, 19, 14, 16, 15, 37, 17, 36, 35, 31, 7, 1, 2, 28, 8, 10, 25, 41, 23, 9, 39, 21, 40, 24, 22, 38, 20, 33, 34, 32, 30, 29, 11, 12, 18, 26, 4, 3, 27] \n",
            "\n",
            "\t****Encontrada mejor solucion: 1504 [0, 6, 5, 13, 19, 16, 14, 15, 37, 17, 36, 35, 31, 7, 1, 3, 28, 8, 10, 25, 41, 23, 9, 39, 21, 40, 24, 22, 38, 33, 20, 34, 32, 30, 29, 11, 12, 18, 26, 4, 27, 2] \n",
            "\n",
            "\t****Encontrada mejor solucion: 1484 [0, 6, 5, 13, 19, 14, 16, 15, 37, 17, 36, 35, 31, 7, 1, 3, 28, 29, 30, 8, 41, 23, 9, 39, 21, 40, 24, 22, 38, 34, 33, 20, 32, 10, 25, 11, 12, 18, 26, 4, 2, 27] \n",
            "\n",
            "\t****Encontrada mejor solucion: 1480 [0, 6, 5, 13, 19, 14, 16, 15, 37, 36, 35, 31, 17, 7, 1, 3, 28, 29, 30, 8, 41, 23, 9, 39, 21, 40, 24, 22, 38, 34, 33, 20, 32, 10, 25, 11, 12, 18, 26, 4, 2, 27] \n",
            "\n",
            "\t****Encontrada mejor solucion: 1462 [0, 6, 5, 13, 19, 14, 16, 15, 37, 36, 35, 31, 17, 7, 1, 3, 28, 30, 29, 8, 41, 23, 9, 39, 21, 40, 24, 22, 38, 34, 33, 20, 32, 10, 25, 11, 12, 18, 26, 4, 27, 2] \n",
            "\n",
            "\t****Encontrada mejor solucion: 1460 [0, 6, 5, 13, 19, 14, 16, 15, 37, 36, 35, 31, 17, 7, 1, 27, 28, 30, 29, 8, 41, 23, 9, 39, 21, 40, 24, 22, 38, 34, 33, 20, 32, 10, 25, 11, 12, 18, 26, 4, 3, 2] \n",
            "\n",
            "\t****Encontrada mejor solucion: 1459 [0, 6, 5, 13, 19, 14, 16, 15, 37, 36, 35, 31, 17, 7, 1, 2, 28, 30, 29, 8, 41, 23, 9, 39, 21, 40, 24, 22, 38, 34, 33, 20, 32, 10, 25, 11, 12, 18, 26, 4, 3, 27] \n",
            "\n",
            "La mejor solución encontrada es : 1459 [0, 6, 5, 13, 19, 14, 16, 15, 37, 36, 35, 31, 17, 7, 1, 2, 28, 30, 29, 8, 41, 23, 9, 39, 21, 40, 24, 22, 38, 34, 33, 20, 32, 10, 25, 11, 12, 18, 26, 4, 3, 27]\n"
          ],
          "name": "stdout"
        }
      ]
    },
    {
      "cell_type": "code",
      "metadata": {
        "id": "FY_dCcKA8Gb_",
        "colab_type": "code",
        "colab": {}
      },
      "source": [
        "from numpy.random import choice\n",
        "#Colonia de hormigas\n",
        "def probabilidad_de_preferencia(alpha, beta, Nodos, i,j,Nodos_no_visitados, T):\n",
        "  sumatorio = 0\n",
        "  for l in Nodos_no_visitados:\n",
        "    sumatorio += (T[i][l]**alpha)*(1/distancia(i,l,problem)**beta)\n",
        "    #print(sumatorio)\n",
        "  if j not in Nodos_no_visitados:\n",
        "    return 0\n",
        "  probabilidad = ((T[i][j])**alpha*(1/distancia(i,j,problem)**beta))/sumatorio\n",
        "  return probabilidad\n",
        "\n",
        "def Add_Nodo(problem, H ,T ) :\n",
        "  #Establecer una una funcion de probabilidad para \n",
        "  # añadir un nuevo nodo dependiendo de los nodos mas cercanos y de las feromonas depositadas\n",
        "  Nodos = list(problem.get_nodes())\n",
        "  Nodos_no_visitados = list(set(range(1,len(Nodos))) - set(H) )  \n",
        "  probabilidad = []\n",
        "  for j in Nodos:\n",
        "    probabilidad.append(probabilidad_de_preferencia(.8,.5,Nodos,H[-1],j,Nodos_no_visitados,T))\n",
        "  #print(probabilidad)\n",
        "  #print(choice(Nodos, p=probabilidad))\n",
        "  return choice(Nodos, p=probabilidad)\n",
        "\n",
        "\n",
        "def Incrementa_Feromona(problem, T, H):\n",
        "  #Incrementar segun la calidad de la solución. Añadir una cantidad inversamente proporcional a la distancia total \n",
        "  for i in range(len(H)-1):\n",
        "    T[H[i]][H[i+1]] += 1000/distancia_total(H, problem)\n",
        "  return T\n",
        "\n",
        "def Evaporar_Feromonas(T):\n",
        "  #Podemos elegir diferentes funciones de evaporación dependiendo de la cantidad actual y de la suma total de feromonas depositadas,...\n",
        "  #Evapora 0.3 el valor de la feromona, sin que baje de 1\n",
        "  T = [[ max(T[i][j] - 0.3 , 1) for i in range(len(Nodos)) ] for j in range(len(Nodos))]\n",
        "  return T"
      ],
      "execution_count": 0,
      "outputs": []
    },
    {
      "cell_type": "code",
      "metadata": {
        "id": "iqScOCG9-DeM",
        "colab_type": "code",
        "colab": {}
      },
      "source": [
        "def hormigas(problem, N) :\n",
        "  #problem = datos del problema\n",
        "  #N = Número de agentes(hormigas)\n",
        "    \n",
        "  #Nodos\n",
        "  Nodos = list(problem.get_nodes())\n",
        "    #Aristas\n",
        "  Aristas = list(problem.get_edges()) \n",
        "  \n",
        "  #Inicializa las aristas con una cantidad inicial de feromonas:1\n",
        "  T = [[ 1 for _ in range(len(Nodos)) ] for _ in range(len(Nodos))]\n",
        "  \n",
        "  #Se generan los agentes(hormigas) que serán estructuras de caminos desde 0\n",
        "  Hormiga = [[0] for _ in range(N)]\n",
        "\n",
        "   #Recorre cada agente construyendo la solución\n",
        "  for h in range(N) :\n",
        "    #Para cada agente se construye un camino\n",
        "    for i in range(len(Nodos)-1) :\n",
        "      \n",
        "      #Elige el siguiente nodo\n",
        "      Nuevo_Nodo = Add_Nodo(problem, Hormiga[h] ,T )\n",
        "      \n",
        "      Hormiga[h].append(Nuevo_Nodo)     \n",
        "    \n",
        "    #Incrementa feromonas en esa arista \n",
        "    T = Incrementa_Feromona(problem, T, Hormiga[h] )\n",
        "    #print(\"Feromonas(1)\", T)\n",
        "      \n",
        "    #Evapora Feromonas  \n",
        "    T = Evaporar_Feromonas(T)\n",
        "    #print(\"Feromonas(2)\", T)\n",
        "\n",
        "    #Seleccionamos el mejor agente\n",
        "  mejor_solucion = []\n",
        "  mejor_distancia = 10e100\n",
        "  for h in range(N) :\n",
        "    distancia_actual = distancia_total(Hormiga[h], problem)\n",
        "    if distancia_actual < mejor_distancia:\n",
        "      mejor_solucion = Hormiga[h]\n",
        "      mejor_distancia =distancia_actual\n",
        "  \n",
        "  \n",
        "  print(mejor_solucion)\n",
        "  print(mejor_distancia)"
      ],
      "execution_count": 0,
      "outputs": []
    },
    {
      "cell_type": "code",
      "metadata": {
        "id": "CsMhP__4-yIm",
        "colab_type": "code",
        "colab": {}
      },
      "source": [
        "hormigas(problem,5)"
      ],
      "execution_count": 0,
      "outputs": []
    }
  ]
}