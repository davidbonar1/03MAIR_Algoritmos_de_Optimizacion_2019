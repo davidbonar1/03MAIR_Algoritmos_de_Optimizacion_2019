{
  "nbformat": 4,
  "nbformat_minor": 0,
  "metadata": {
    "colab": {
      "name": "David_Boñar_Álvarez_Seminario_Algoritmos.ipynb",
      "provenance": [],
      "collapsed_sections": [],
      "include_colab_link": true
    },
    "kernelspec": {
      "name": "python3",
      "display_name": "Python 3"
    }
  },
  "cells": [
    {
      "cell_type": "markdown",
      "metadata": {
        "id": "view-in-github",
        "colab_type": "text"
      },
      "source": [
        "<a href=\"https://colab.research.google.com/github/davidbonar1/03MAIR_Algoritmos_de_Optimizacion_2019/blob/SEMINARIO/David_Bo%C3%B1ar_%C3%81lvarez_Seminario_Algoritmos.ipynb\" target=\"_parent\"><img src=\"https://colab.research.google.com/assets/colab-badge.svg\" alt=\"Open In Colab\"/></a>"
      ]
    },
    {
      "cell_type": "markdown",
      "metadata": {
        "id": "hVbXYX-RfPWh",
        "colab_type": "text"
      },
      "source": [
        "# Algoritmos de optimización - Seminario<br>\n",
        "Nombre y Apellidos: David Boñar Álvarez   <br>\n",
        "Url: https://github.com/davidbonar1/03MAIR_Algoritmos_de_Optimizacion_2019/tree/master/SEMINARIO <br>\n",
        "Collab: https://colab.research.google.com/drive/1cHhRO1HXPHtQ8dJR9PhfQH0SCYVct4od <br>\n",
        "Problema:\n",
        ">1. Elección de grupos de población homogéneos <br>\n",
        ">2. Organizar los horarios de partidos de La Liga<br>\n",
        ">3. **Combinar cifras y operaciones**\n",
        "\n",
        "Descripción del problema:(copiar enunciado)\n",
        "\n",
        "El problema consiste en analizar el siguiente problema y diseñar un algoritmo que lo resuelva.\n",
        "\n",
        "- Disponemos de las 9 cifras del 1 al 9 (excluimos el cero) y de los 4 signos básicos de las operaciones fundamentales: suma(+), resta(-), multiplicación(*) y división(/)\n",
        "\n",
        "- Debemos combinarlos alternativamente sin repetir ninguno de ellos para obtener una cantidad dada. Un ejemplo sería para obtener el 4:\n",
        "4+2-6/3*1 = 4\n",
        "\n",
        "\n",
        "(*) La respuesta es obligatoria\n",
        "\n",
        "\n",
        "\n",
        "\n",
        "\n",
        "                                        "
      ]
    },
    {
      "cell_type": "code",
      "metadata": {
        "id": "AiskKkzZfy4e",
        "colab_type": "code",
        "colab": {}
      },
      "source": [
        ""
      ],
      "execution_count": 0,
      "outputs": []
    },
    {
      "cell_type": "markdown",
      "metadata": {
        "id": "3_-exlrTgLd-",
        "colab_type": "text"
      },
      "source": [
        "(*)¿Cuantas posibilidades hay sin tener en cuenta las restricciones?<br>\n",
        "\n",
        "\n",
        "\n",
        "¿Cuantas posibilidades hay teniendo en cuenta todas las restricciones?\n",
        "\n",
        "\n"
      ]
    },
    {
      "cell_type": "markdown",
      "metadata": {
        "id": "WfCUqJyKhPcw",
        "colab_type": "text"
      },
      "source": [
        "Respuesta:\n",
        "\n",
        "Sin tener en cuenta las restricciones, la cantidad total de posibilidades consiste en la multiplicación de dos variaciones, las de los números y las de los operadores. En el primer caso, sería la variación de 9 elementos tomados de 5 en 5 sin repetición, y en el segundo permutaciones de 4 elementos sin repetición:\n",
        "\n",
        "$$P_{numeros} = V_{9,5} = \\frac{m!}{(m-n)!}=\\frac{9!}{(9-5)!} = 15120$$\n",
        "$$P_{operadores} = P_4 = n! = 4! = 24 $$\n",
        "\n",
        "Por lo tanto habría 15120 * 24 = **362880** posibilidades.\n",
        "\n",
        "Contando la restricción de obtener números enteros, se añade que la división debe ser exacta, por lo que sólo podrían ser aquellas cuya división fuera un número par entre 2, el 8 entre 4, cualquier número entre 1 o 6 y 9 entre 3. \n",
        "Esto resulta en 15 números posibles más las combinaciones de los números restantes con los operadores restantes.\n",
        "\n",
        "Es decir, que quedarían 7 números y 3 operadores, cuyas variaciones serían:\n",
        "\n",
        "$$P_{numeros} = V_{7,3} = \\frac{m!}{(m-n)!}=\\frac{7!}{(7-3)!} = 210$$\n",
        "$$P_{operadores} = P_3 = n! = 3! = 6 $$\n",
        "\n",
        "Por lo tanto habría 210 * 6 * 14 = **17640** posibilidades.\n"
      ]
    },
    {
      "cell_type": "code",
      "metadata": {
        "id": "iq6Fe32MgpDX",
        "colab_type": "code",
        "colab": {}
      },
      "source": [
        ""
      ],
      "execution_count": 0,
      "outputs": []
    },
    {
      "cell_type": "markdown",
      "metadata": {
        "id": "dzynfVJahHoY",
        "colab_type": "text"
      },
      "source": [
        "Modelo para el espacio de soluciones<br>\n",
        "(*) ¿Cual es la estructura de datos que mejor se adapta al problema? Argumentalo.(Es posible que hayas elegido una al principio y veas la necesidad de cambiar, arguentalo)\n"
      ]
    },
    {
      "cell_type": "markdown",
      "metadata": {
        "id": "xFIJrOwKi2Ti",
        "colab_type": "text"
      },
      "source": [
        "Respuesta:\n",
        "\n",
        "Para la estructura de datos se crearon dos listas, una con los números y otra con los operadores, con los valores de tipo string para que no hubiera incompatibilidades. \n",
        "Primero se intentó crear mediante numpy arrays para utilizar la función concatenate a la hora de rotar los elementos de las combinaciones. Pero se desechó debido a que daba errores por tratar los operadores en lugar de como strings como operadores al uso.\n"
      ]
    },
    {
      "cell_type": "code",
      "metadata": {
        "id": "38c-7-ejhJmA",
        "colab_type": "code",
        "colab": {}
      },
      "source": [
        ""
      ],
      "execution_count": 0,
      "outputs": []
    },
    {
      "cell_type": "markdown",
      "metadata": {
        "id": "7Z9U2W7bi-XS",
        "colab_type": "text"
      },
      "source": [
        "Según el modelo para el espacio de soluciones<br>\n",
        "(*)¿Cual es la función objetivo?\n",
        "\n",
        "(*)¿Es un problema de maximización o minimización?"
      ]
    },
    {
      "cell_type": "markdown",
      "metadata": {
        "id": "hBalWLM7j1_d",
        "colab_type": "text"
      },
      "source": [
        "Respuesta:\n",
        "\n",
        "La función objetivo consiste en la obtención de todos los valores enteros que se pueden formar con la combinación de números anteriores con los operandos, y calcular tanto su valor máximo como mínimo.\n",
        "\n",
        "El problema es de maximización y minimización porque hay que encontrar ambos valores máximos y mínimos."
      ]
    },
    {
      "cell_type": "code",
      "metadata": {
        "id": "pDA-rg3Gj5Lz",
        "colab_type": "code",
        "colab": {}
      },
      "source": [
        ""
      ],
      "execution_count": 0,
      "outputs": []
    },
    {
      "cell_type": "markdown",
      "metadata": {
        "id": "rlnTYgY1j6I2",
        "colab_type": "text"
      },
      "source": [
        "Diseña un algoritmo para resolver el problema por fuerza bruta"
      ]
    },
    {
      "cell_type": "markdown",
      "metadata": {
        "id": "70rDgxYXkC8r",
        "colab_type": "text"
      },
      "source": [
        "Respuesta:\n",
        "\n",
        "El algoritmo por fuerza bruta consistiría en realizar todas las combinaciones de números y operadores posibles, es decir las 17640 posibilidades."
      ]
    },
    {
      "cell_type": "code",
      "metadata": {
        "id": "CJb5sQ0qkENy",
        "colab_type": "code",
        "colab": {}
      },
      "source": [
        "#Un pseudocódigo para el algoritmo de fuerza bruta sería:\n",
        "\n",
        "def fuerza_bruta(numeros,operadores):\n",
        "  division = []\n",
        "  conjunto_de_soluciones = []\n",
        "  for i in numeros:\n",
        "    numero_5 = numeros.copy\n",
        "    solucion.append(i)\n",
        "    numero_5.remove(i)\n",
        "    for j in operadores:\n",
        "      operador_4 = operadores.copy\n",
        "      solucion.appen(j)\n",
        "      operador_4.remove(j)\n",
        "      for k in numero_5:\n",
        "        if solucion[-1] == \"/\":\n",
        "          division[0]=solucion[-2]\n",
        "          division[1]=solucion[-1]\n",
        "          division[2]=k\n",
        "          division_exacta = \" \".join(division)\n",
        "          valor_division = eval(division_exacta)\n",
        "          if valor_division % 2 !=0 or valor_division % 3 != 0:\n",
        "            pass\n",
        "          else:\n",
        "            numero_4 = numero_5.copy\n",
        "            solucion.append(k)\n",
        "            numero_4.remove(k)\n",
        "            for l in operador_4:\n",
        "              operador_3 = operador_4.copy\n",
        "              solucion.append(l)\n",
        "              operador_3.remove(l)\n",
        "              for m in numero_4:\n",
        "                if solucion[-1] == \"/\":\n",
        "                  division[0]=solucion[-2]\n",
        "                  division[1]=solucion[-1]\n",
        "                  division[2]=m\n",
        "                  division_exacta = \" \".join(division)\n",
        "                  valor_division = eval(division_exacta)\n",
        "                  if valor_division % 2 !=0 or valor_division % 3 != 0:\n",
        "                    pass\n",
        "                  else:\n",
        "                    numero_3 = numero_4.copy\n",
        "                    solucion.append(m)\n",
        "                    numero_3.remove(m)\n",
        "                    for n in operador_3:\n",
        "                      operador_2 = operador_3.copy\n",
        "                      solucion.append(n)\n",
        "                      operador_2.remove(n)\n",
        "                      for a in numero_3:\n",
        "                        if solucion[-1] == \"/\":\n",
        "                          division[0]=solucion[-2]\n",
        "                          division[1]=solucion[-1]\n",
        "                          division[2]=a\n",
        "                          division_exacta = \" \".join(division)\n",
        "                          valor_division = eval(division_exacta)\n",
        "                          if valor_division % 2 !=0 or valor_division % 3 != 0:\n",
        "                            pass\n",
        "                          else:\n",
        "                            numero_2 = numero_3.copy\n",
        "                            solucion.append(a)\n",
        "                            numero_2.remove(a)\n",
        "                            numero_1 = numero_2.copy\n",
        "                            for b in operador_2:\n",
        "                              operador_1 = operador_2.copy\n",
        "                              solucion.append(b)\n",
        "                              operador_1.remove(b)\n",
        "                              for c in numero_1:\n",
        "                                if solucion[-1] == \"/\":\n",
        "                                  division[0]=solucion[-2]\n",
        "                                  division[1]=solucion[-1]\n",
        "                                  division[2]=k\n",
        "                                  division_exacta = \" \".join(division)\n",
        "                                  valor_division = eval(division_exacta)\n",
        "                                  if valor_division % 2 !=0 or valor_division % 3 != 0:\n",
        "                                    pass\n",
        "                                  else:\n",
        "                                    solucion.append(c)\n",
        "                                    numero_1.remove(c)\n",
        "                                    solucion_a_evaluar = \" \".join(solucion)\n",
        "                                    solucion_evaluada = eval(solucion_a_evaluar)\n",
        "                                    if solucion_evaluada is not in conjunto_de_soluciones:\n",
        "                                      conjunto_de_soluciones.append(solucion_evaluada)\n",
        "\n",
        "  print(\"Conjunto de soluciones: \", conjunto_de_soluciones)\n",
        "  print(\"\\nEl total de soluciones son: \", len(conjunto_de_soluciones))\n",
        "  print(\"\\nEl máximo de las soluciones es: \", max(conjunto_de_soluciones))\n",
        "  print(\"\\nEl mínimo de las soluciones es: \", min(conjunto_de_soluciones))\n",
        "  "
      ],
      "execution_count": 0,
      "outputs": []
    },
    {
      "cell_type": "markdown",
      "metadata": {
        "id": "tgrnsC2nkFa8",
        "colab_type": "text"
      },
      "source": [
        "Calcula la complejidad del algoritmo por fuerza bruta"
      ]
    },
    {
      "cell_type": "markdown",
      "metadata": {
        "id": "9eUd3xwckP68",
        "colab_type": "text"
      },
      "source": [
        "Respuesta:\n",
        "\n",
        "Como se puede observar en la celda anterior, la complejidad del algoritmo sería de $n^9$, dado que en este caso 9 es el número de números y operadores que se combinan. Si aumentase o disminuyese este número, el orden sería de $n^m$ donde m es el número de elementos que se combinan.\n"
      ]
    },
    {
      "cell_type": "code",
      "metadata": {
        "id": "rvZWwL-ckRST",
        "colab_type": "code",
        "colab": {}
      },
      "source": [
        ""
      ],
      "execution_count": 0,
      "outputs": []
    },
    {
      "cell_type": "markdown",
      "metadata": {
        "id": "txbrmLmskReM",
        "colab_type": "text"
      },
      "source": [
        "(*)Diseña un algoritmo que mejore la complejidad del algortimo por fuerza bruta. Argumenta porque crees que mejora el algoritmo por fuerza bruta"
      ]
    },
    {
      "cell_type": "markdown",
      "metadata": {
        "id": "hLrVwt5QkZPD",
        "colab_type": "text"
      },
      "source": [
        "Respuesta:\n",
        "\n",
        "Para resolver el problema se ha optado por un método de resolución heurístico, y más concretamente por la técnica de búsqueda local vista en clase. \n",
        "\n",
        "Este tipo de algoritmos mejora la búsqueda tanto del valor máximo como mínimo debido a la utilización de vecinos próximos, es decir, soluciones próximas al entorno de la solución dereferencia limitados por movimientos.\n",
        "\n",
        "Con este método se evita la necesidad de generar todo el espacio de soluciones para encontrar el valor máximo y mínimo, mejorando la rapidez y la utilización de memoria y computación."
      ]
    },
    {
      "cell_type": "code",
      "metadata": {
        "id": "qydlk5PExmkF",
        "colab_type": "code",
        "colab": {}
      },
      "source": [
        "import numpy as np\n",
        "import random\n",
        "import sys\n",
        "import math"
      ],
      "execution_count": 0,
      "outputs": []
    },
    {
      "cell_type": "code",
      "metadata": {
        "id": "15FuY5SGxmY1",
        "colab_type": "code",
        "colab": {}
      },
      "source": [
        "def generar_numeros():\n",
        "    numeros = []\n",
        "    for i in range(1,10):\n",
        "        numeros.append(i)\n",
        "    operadores = [\"+\",\"-\",\"*\",\"/\"]\n",
        "    \n",
        "    return numeros,operadores"
      ],
      "execution_count": 0,
      "outputs": []
    },
    {
      "cell_type": "code",
      "metadata": {
        "id": "C5wKzn3SxmT-",
        "colab_type": "code",
        "colab": {}
      },
      "source": [
        "def genera_vecina_maxima(solucion):\n",
        "#Generador de soluciones vecinas: 2-opt (intercambiar 2 nodos) Si hay N nodos se generan (N-1)x(N-2)/2 soluciones. Para este problema 820.\n",
        "    mejor_solucion = []\n",
        "    mejor_valor = 0\n",
        "    for i in range(1,len(solucion)-1): #cogemos desde el segundo nodo en adelante\n",
        "        if i%2 == 0: #cuando se elige un número\n",
        "            for j in range(i+1, len(solucion)):\n",
        "                if j%2 == 0: #se tiene que intercambiar por otro número\n",
        "                    vecina = solucion[:i] + [solucion[j]] + solucion[i+1:j] + [solucion[i]] + solucion[j+1:]\n",
        "                    vecina_eval = \" \".join(vecina)\n",
        "                    solucion_vecina = eval(vecina_eval)\n",
        "                    if solucion_vecina >= mejor_valor:\n",
        "                        mejor_valor = solucion_vecina\n",
        "                        mejor_solucion = vecina\n",
        "        else:\n",
        "            for j in range(i+1, len(solucion)):\n",
        "                if j%2 != 0: #se tiene que intercambiar por otro operador\n",
        "                    vecina = solucion[:i] + [solucion[j]] + solucion[i+1:j] + [solucion[i]] + solucion[j+1:]\n",
        "                    vecina_eval = \" \".join(vecina)\n",
        "                    solucion_vecina = eval(vecina_eval)\n",
        "                    if solucion_vecina >= mejor_valor:\n",
        "                        mejor_valor = solucion_vecina\n",
        "                        mejor_solucion = vecina\n",
        "            \n",
        "    return mejor_solucion\n",
        "\n",
        "def genera_vecina_minima(solucion):\n",
        "#Generador de soluciones vecinas: 2-opt (intercambiar 2 nodos) Si hay N nodos se generan (N-1)x(N-2)/2 soluciones. Para este problema 820.\n",
        "  \n",
        "    mejor_solucion = []\n",
        "    mejor_valor = 100e10\n",
        "    for i in range(1,len(solucion)-1): #cogemos desde el segundo nodo en adelante\n",
        "        if i%2 == 0: #cuando se elige un número\n",
        "            for j in range(i+1, len(solucion)):\n",
        "                if j%2 == 0: #se tiene que intercambiar por otro número\n",
        "                    vecina = solucion[:i] + [solucion[j]] + solucion[i+1:j] + [solucion[i]] + solucion[j+1:]\n",
        "                    vecina_eval = \" \".join(vecina)\n",
        "                    solucion_vecina = eval(vecina_eval)\n",
        "                    if solucion_vecina <= mejor_valor:\n",
        "                        mejor_valor = solucion_vecina\n",
        "                        mejor_solucion = vecina\n",
        "        else:\n",
        "            for j in range(i+1, len(solucion)):\n",
        "                if j%2 != 0: #se tiene que intercambiar por otro operador\n",
        "                    vecina = solucion[:i] + [solucion[j]] + solucion[i+1:j] + [solucion[i]] + solucion[j+1:]\n",
        "                    vecina_eval = \" \".join(vecina)\n",
        "                    solucion_vecina = eval(vecina_eval)\n",
        "                    if solucion_vecina <= mejor_valor:\n",
        "                        mejor_valor = solucion_vecina\n",
        "                        mejor_solucion = vecina\n",
        "            \n",
        "    return mejor_solucion"
      ],
      "execution_count": 0,
      "outputs": []
    },
    {
      "cell_type": "code",
      "metadata": {
        "id": "eJ9DCFFNxmOt",
        "colab_type": "code",
        "colab": {}
      },
      "source": [
        "#Búsqueda local\n",
        "def busqueda_local_max_min(numeros,operadores,N):\n",
        "#problem = datos del problema\n",
        "#N = numero de iteraciones\n",
        "  \n",
        "    mejor_solucion_maximizar = []\n",
        "    mejor_solucion_minimizar = []\n",
        "    mejor_valor_maximizar = 0\n",
        "    mejor_valor_minimizar = 10e100\n",
        "    \n",
        "  \n",
        "    solucion_referencia_maximizar, solucion_evaluacion_referencia_maximizar = crear_solucion_aleatoria(numeros,operadores)\n",
        "    solucion_referencia_minimizar, solucion_evaluacion_referencia_minimizar = crear_solucion_aleatoria(numeros,operadores)\n",
        "    \n",
        "    for i in range(N):\n",
        "\n",
        "        vecina_maximizar = genera_vecina_maxima(solucion_referencia_maximizar)\n",
        "        vecina_eval_maximizar = \" \".join(vecina_maximizar)\n",
        "        valor_vecina_maximizar = eval(vecina_eval_maximizar)\n",
        "        if valor_vecina_maximizar >= mejor_valor_maximizar:\n",
        "            mejor_solucion_maximizar = vecina_maximizar\n",
        "            mejor_valor_maximizar = valor_vecina_maximizar\n",
        "\n",
        "        vecina_minimizar = genera_vecina_minima(solucion_referencia_minimizar)\n",
        "        vecina_eval_minimizar = \" \".join(vecina_minimizar)\n",
        "        distancia_vecina_minimizar = eval(vecina_eval_minimizar)\n",
        "        if distancia_vecina_minimizar <= mejor_valor_minimizar:\n",
        "            mejor_solucion_minimizar = vecina_minimizar\n",
        "            mejor_valor_minimizar = distancia_vecina_minimizar\n",
        "            \n",
        "    \n",
        "    solucion_referencia_maximizar  = vecina_maximizar \n",
        "    solucion_referencia_minimizar = vecina_minimizar\n",
        "    print(\"La solución más alta encontrada es \" , int(mejor_valor_maximizar)  , mejor_solucion_maximizar)\n",
        "    print(\"La solución más baja encontrada es \" , int(mejor_valor_minimizar)  , mejor_solucion_minimizar)"
      ],
      "execution_count": 0,
      "outputs": []
    },
    {
      "cell_type": "code",
      "metadata": {
        "id": "GCa_VlYlxmBs",
        "colab_type": "code",
        "colab": {}
      },
      "source": [
        ""
      ],
      "execution_count": 0,
      "outputs": []
    },
    {
      "cell_type": "code",
      "metadata": {
        "id": "J_hRIEn34VLU",
        "colab_type": "code",
        "colab": {}
      },
      "source": [
        ""
      ],
      "execution_count": 0,
      "outputs": []
    },
    {
      "cell_type": "markdown",
      "metadata": {
        "id": "eGDB4K6uk1iN",
        "colab_type": "text"
      },
      "source": [
        "(*)Calcula la complejidad del algoritmo "
      ]
    },
    {
      "cell_type": "markdown",
      "metadata": {
        "id": "NhpTh_BPk1ms",
        "colab_type": "text"
      },
      "source": [
        "Respuesta:\n",
        "\n",
        "La complejidad del algoritmo es de $n^3$, ya que la función generar_vecina_maxima/minima, tiene un orden de $n^2$ y están dentro de la función del algoritmo iteradas en el número de movimientos, es decir, dentro de un for.\n",
        "\n",
        "Por lo tanto sería For, dentro de For, dentro de For = $n^3$"
      ]
    },
    {
      "cell_type": "code",
      "metadata": {
        "id": "nREzhkStlCq8",
        "colab_type": "code",
        "colab": {}
      },
      "source": [
        ""
      ],
      "execution_count": 0,
      "outputs": []
    },
    {
      "cell_type": "markdown",
      "metadata": {
        "id": "3M6QjTsSkmYe",
        "colab_type": "text"
      },
      "source": [
        "Según el problema (y tenga sentido), diseña un juego de datos de entrada aleatorios"
      ]
    },
    {
      "cell_type": "markdown",
      "metadata": {
        "id": "Jc3_OlyNkvjZ",
        "colab_type": "text"
      },
      "source": [
        "Respuesta: \n",
        "\n",
        "Para que los datos de entrada sean aleatorios, se genera una lista de números y se asigna el primero (de forma aleatoria) a una lista en la que posteriormente se irán añadiendo el resto de elementos de forma aleatoria."
      ]
    },
    {
      "cell_type": "code",
      "metadata": {
        "id": "EVn9x9z685_6",
        "colab_type": "code",
        "colab": {}
      },
      "source": [
        "def crear_solucion_aleatoria(numeros,operadores):\n",
        "  \n",
        "    numero_aleatorio = numeros.copy()\n",
        "    operador_aleatorio = operadores.copy()\n",
        "    numero_divisiones_seguidas = 0\n",
        "    division = [0,0,0]\n",
        "    solucion = []\n",
        "    \n",
        "    primer_numero = random.choice(numero_aleatorio)\n",
        "    solucion.append(str(primer_numero))\n",
        "    numero_aleatorio.remove(primer_numero)\n",
        "    while len(operador_aleatorio) > 0:\n",
        "        if '/' in operador_aleatorio and numero_divisiones_seguidas >= 2:\n",
        "          operador_aleatorio.remove('/')\n",
        "          numero_divisiones_seguidas = 0\n",
        "          operador = random.choice(operador_aleatorio)\n",
        "          operador = operador_aleatorio.append('/')\n",
        "        else:\n",
        "          operador = random.choice(operador_aleatorio)\n",
        "        numero = random.choice(numero_aleatorio)\n",
        "        numero_aleatorio.remove(numero)\n",
        "        operador_aleatorio.remove(operador)\n",
        "        if operador == '/':\n",
        "          division[0]=solucion[-1]\n",
        "          division[1]=operador\n",
        "          division[2]=str(numero)\n",
        "          division_exacta = \" \".join(division)\n",
        "          valor_division = eval(division_exacta)\n",
        "          if valor_division % 2 ==0 or valor_division % 3 == 0:\n",
        "            solucion = solucion + [str(operador)] + [str(numero)]\n",
        "            \n",
        "          else:\n",
        "            numero_aleatorio.append(numero)\n",
        "            operador_aleatorio.append(operador)\n",
        "            numero_divisiones_seguidas += 1\n",
        "            \n",
        "        else:\n",
        "          solucion = solucion + [str(operador)] + [str(numero)]\n",
        "          \n",
        "\n",
        "    solucion_eval = \" \".join(solucion)\n",
        "    return solucion, solucion_eval\n"
      ],
      "execution_count": 0,
      "outputs": []
    },
    {
      "cell_type": "code",
      "metadata": {
        "id": "7jxBSDPSz8-x",
        "colab_type": "code",
        "colab": {
          "base_uri": "https://localhost:8080/",
          "height": 33
        },
        "outputId": "9df0c10b-a2ef-47b8-9bfd-10315f8af1cb"
      },
      "source": [
        "numeros,operadores = generar_numeros()\n",
        "solucion, solucion_eval = crear_solucion_aleatoria(numeros,operadores)\n",
        "print((solucion))"
      ],
      "execution_count": 7,
      "outputs": [
        {
          "output_type": "stream",
          "text": [
            "['9', '/', '3', '-', '4', '+', '6', '*', '5']\n"
          ],
          "name": "stdout"
        }
      ]
    },
    {
      "cell_type": "markdown",
      "metadata": {
        "id": "zy5ZROmjlGo1",
        "colab_type": "text"
      },
      "source": [
        "Aplica el algoritmo al juego de datos generado"
      ]
    },
    {
      "cell_type": "markdown",
      "metadata": {
        "id": "_Cmj-PVylMsa",
        "colab_type": "text"
      },
      "source": [
        "Respuesta:\n",
        "\n",
        "Tras la ejecución del algoritmo varias veces, los valores obtenidos son los siguientes:\n",
        "\n",
        "*   Valor máximo: 77\n",
        "*   Valor mínimo: -71\n",
        "\n"
      ]
    },
    {
      "cell_type": "code",
      "metadata": {
        "id": "Jkx8GeiYlUz1",
        "colab_type": "code",
        "colab": {
          "base_uri": "https://localhost:8080/",
          "height": 50
        },
        "outputId": "35b6d2f9-a41c-4628-ad73-e60333a45afe"
      },
      "source": [
        "numeros,operadores = generar_numeros() \n",
        "busqueda_local_max_min(numeros,operadores,1000)"
      ],
      "execution_count": 10,
      "outputs": [
        {
          "output_type": "stream",
          "text": [
            "La solución más alta encontrada es  54 ['7', '*', '8', '/', '1', '+', '3', '-', '5']\n",
            "La solución más baja encontrada es  -2 ['6', '-', '9', '+', '2', '/', '3', '*', '1']\n"
          ],
          "name": "stdout"
        }
      ]
    },
    {
      "cell_type": "markdown",
      "metadata": {
        "colab_type": "text",
        "id": "eTFWUJQrtGcv"
      },
      "source": [
        "Enumera las referencias que has utilizado(si ha sido necesario) para llevar a cabo el trabajo"
      ]
    },
    {
      "cell_type": "markdown",
      "metadata": {
        "id": "YKQ_mRBttWsP",
        "colab_type": "text"
      },
      "source": [
        "Respuesta:\n",
        "\n",
        "https://www.superprof.es/apuntes/escolar/matematicas/probabilidades/combinatoria/variaciones-permutaciones-y-combinaciones.html"
      ]
    },
    {
      "cell_type": "markdown",
      "metadata": {
        "id": "kAkDPUyRtYyH",
        "colab_type": "text"
      },
      "source": [
        "Describe brevemente las lineas de como crees que es posible avanzar en el estudio del problema. Ten en cuenta incluso posibles variaciones del problema y/o variaciones al alza del tamaño"
      ]
    },
    {
      "cell_type": "markdown",
      "metadata": {
        "id": "IE0uZmo-tZu-",
        "colab_type": "text"
      },
      "source": [
        "Respuesta:\n",
        "\n",
        "El algoritmo utilizado tiene varias ventajas con respecto a su utilización en lugar del algoritmo de fuerza bruta, que ya se han explicado anteriormente. Sin embargo, también tiene algún defecto y líneas de mejora, los cuales enumero a continuación:\n",
        "\n",
        "- Este algoritmo no permite escapar mínimos ni máximos locales, por lo que cuando se alcanza una solución puede que no sea la óptima. Sería bueno implementar una técnica para escapar de los mismos, por ejemplo permitiendo movimientos de la solución, como en la técnica de recocido simulado.\n",
        "\n",
        "- Si el problema se modificase para permitir valores decimales, habría que modificar el código para que permitiese generar los elementos cuya división no sea exacta."
      ]
    }
  ]
}